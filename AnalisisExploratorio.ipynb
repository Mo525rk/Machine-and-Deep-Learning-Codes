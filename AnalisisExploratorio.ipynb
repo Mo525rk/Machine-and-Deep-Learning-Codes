{
 "cells": [
  {
   "cell_type": "markdown",
   "metadata": {
    "id": "8H1SN1EvAmzF"
   },
   "source": [
    "**ANÁLISIS EXPLORATORIO Y DESCRIPTIVO DE LOS DATOS**"
   ]
  },
  {
   "cell_type": "markdown",
   "metadata": {
    "id": "UNK9L6e4AmzT"
   },
   "source": [
    "Se importa el csv con el que vamos a trabajar. En nuestro caso con bank.csv. Los datos incluidos en el csv están relacionados con campañas de marketing directo (llamadas telefónicas) de una institución bancaria. El objetivo es predecir si el cliente suscribirá un deposito a plazos en dicha institucion bancaria."
   ]
  },
  {
   "cell_type": "code",
   "execution_count": 1,
   "metadata": {
    "executionInfo": {
     "elapsed": 2020,
     "status": "ok",
     "timestamp": 1612444920574,
     "user": {
      "displayName": "INÉS HERNÁNDEZ SÁNCHEZ",
      "photoUrl": "",
      "userId": "05427300555485243097"
     },
     "user_tz": -60
    },
    "id": "XWi_pCbmAmzU"
   },
   "outputs": [],
   "source": [
    "import pandas as pd\n",
    "import os\n",
    "import seaborn as sns\n",
    "import matplotlib.pyplot as plt\n",
    "import numpy as np\n",
    "mainpath =\"/content/\"\n",
    "filename = \"bank-additional-full.csv\"\n",
    "fullpath = os.path.join(mainpath, filename)"
   ]
  },
  {
   "cell_type": "code",
   "execution_count": 2,
   "metadata": {
    "executionInfo": {
     "elapsed": 2852,
     "status": "ok",
     "timestamp": 1612444921428,
     "user": {
      "displayName": "INÉS HERNÁNDEZ SÁNCHEZ",
      "photoUrl": "",
      "userId": "05427300555485243097"
     },
     "user_tz": -60
    },
    "id": "Ngf81AzeAmzV"
   },
   "outputs": [],
   "source": [
    "data = pd.read_csv(fullpath,sep=\";\")"
   ]
  },
  {
   "cell_type": "markdown",
   "metadata": {
    "id": "B487V47gAmzW"
   },
   "source": [
    "Visualización del dataset"
   ]
  },
  {
   "cell_type": "code",
   "execution_count": 3,
   "metadata": {
    "colab": {
     "base_uri": "https://localhost:8080/",
     "height": 419
    },
    "executionInfo": {
     "elapsed": 2835,
     "status": "ok",
     "timestamp": 1612444921431,
     "user": {
      "displayName": "INÉS HERNÁNDEZ SÁNCHEZ",
      "photoUrl": "",
      "userId": "05427300555485243097"
     },
     "user_tz": -60
    },
    "id": "g23AtrciAmzX",
    "outputId": "7feea5a7-8df0-43aa-da18-84a58224ea0f"
   },
   "outputs": [
    {
     "data": {
      "text/html": [
       "<div>\n",
       "<style scoped>\n",
       "    .dataframe tbody tr th:only-of-type {\n",
       "        vertical-align: middle;\n",
       "    }\n",
       "\n",
       "    .dataframe tbody tr th {\n",
       "        vertical-align: top;\n",
       "    }\n",
       "\n",
       "    .dataframe thead th {\n",
       "        text-align: right;\n",
       "    }\n",
       "</style>\n",
       "<table border=\"1\" class=\"dataframe\">\n",
       "  <thead>\n",
       "    <tr style=\"text-align: right;\">\n",
       "      <th></th>\n",
       "      <th>age</th>\n",
       "      <th>job</th>\n",
       "      <th>marital</th>\n",
       "      <th>education</th>\n",
       "      <th>default</th>\n",
       "      <th>housing</th>\n",
       "      <th>loan</th>\n",
       "      <th>contact</th>\n",
       "      <th>month</th>\n",
       "      <th>day_of_week</th>\n",
       "      <th>duration</th>\n",
       "      <th>campaign</th>\n",
       "      <th>pdays</th>\n",
       "      <th>previous</th>\n",
       "      <th>poutcome</th>\n",
       "      <th>emp.var.rate</th>\n",
       "      <th>cons.price.idx</th>\n",
       "      <th>cons.conf.idx</th>\n",
       "      <th>euribor3m</th>\n",
       "      <th>nr.employed</th>\n",
       "      <th>y</th>\n",
       "    </tr>\n",
       "  </thead>\n",
       "  <tbody>\n",
       "    <tr>\n",
       "      <th>0</th>\n",
       "      <td>56</td>\n",
       "      <td>housemaid</td>\n",
       "      <td>married</td>\n",
       "      <td>basic.4y</td>\n",
       "      <td>no</td>\n",
       "      <td>no</td>\n",
       "      <td>no</td>\n",
       "      <td>telephone</td>\n",
       "      <td>may</td>\n",
       "      <td>mon</td>\n",
       "      <td>261</td>\n",
       "      <td>1</td>\n",
       "      <td>999</td>\n",
       "      <td>0</td>\n",
       "      <td>nonexistent</td>\n",
       "      <td>1.1</td>\n",
       "      <td>93.994</td>\n",
       "      <td>-36.4</td>\n",
       "      <td>4.857</td>\n",
       "      <td>5191.0</td>\n",
       "      <td>no</td>\n",
       "    </tr>\n",
       "    <tr>\n",
       "      <th>1</th>\n",
       "      <td>57</td>\n",
       "      <td>services</td>\n",
       "      <td>married</td>\n",
       "      <td>high.school</td>\n",
       "      <td>unknown</td>\n",
       "      <td>no</td>\n",
       "      <td>no</td>\n",
       "      <td>telephone</td>\n",
       "      <td>may</td>\n",
       "      <td>mon</td>\n",
       "      <td>149</td>\n",
       "      <td>1</td>\n",
       "      <td>999</td>\n",
       "      <td>0</td>\n",
       "      <td>nonexistent</td>\n",
       "      <td>1.1</td>\n",
       "      <td>93.994</td>\n",
       "      <td>-36.4</td>\n",
       "      <td>4.857</td>\n",
       "      <td>5191.0</td>\n",
       "      <td>no</td>\n",
       "    </tr>\n",
       "    <tr>\n",
       "      <th>2</th>\n",
       "      <td>37</td>\n",
       "      <td>services</td>\n",
       "      <td>married</td>\n",
       "      <td>high.school</td>\n",
       "      <td>no</td>\n",
       "      <td>yes</td>\n",
       "      <td>no</td>\n",
       "      <td>telephone</td>\n",
       "      <td>may</td>\n",
       "      <td>mon</td>\n",
       "      <td>226</td>\n",
       "      <td>1</td>\n",
       "      <td>999</td>\n",
       "      <td>0</td>\n",
       "      <td>nonexistent</td>\n",
       "      <td>1.1</td>\n",
       "      <td>93.994</td>\n",
       "      <td>-36.4</td>\n",
       "      <td>4.857</td>\n",
       "      <td>5191.0</td>\n",
       "      <td>no</td>\n",
       "    </tr>\n",
       "    <tr>\n",
       "      <th>3</th>\n",
       "      <td>40</td>\n",
       "      <td>admin.</td>\n",
       "      <td>married</td>\n",
       "      <td>basic.6y</td>\n",
       "      <td>no</td>\n",
       "      <td>no</td>\n",
       "      <td>no</td>\n",
       "      <td>telephone</td>\n",
       "      <td>may</td>\n",
       "      <td>mon</td>\n",
       "      <td>151</td>\n",
       "      <td>1</td>\n",
       "      <td>999</td>\n",
       "      <td>0</td>\n",
       "      <td>nonexistent</td>\n",
       "      <td>1.1</td>\n",
       "      <td>93.994</td>\n",
       "      <td>-36.4</td>\n",
       "      <td>4.857</td>\n",
       "      <td>5191.0</td>\n",
       "      <td>no</td>\n",
       "    </tr>\n",
       "    <tr>\n",
       "      <th>4</th>\n",
       "      <td>56</td>\n",
       "      <td>services</td>\n",
       "      <td>married</td>\n",
       "      <td>high.school</td>\n",
       "      <td>no</td>\n",
       "      <td>no</td>\n",
       "      <td>yes</td>\n",
       "      <td>telephone</td>\n",
       "      <td>may</td>\n",
       "      <td>mon</td>\n",
       "      <td>307</td>\n",
       "      <td>1</td>\n",
       "      <td>999</td>\n",
       "      <td>0</td>\n",
       "      <td>nonexistent</td>\n",
       "      <td>1.1</td>\n",
       "      <td>93.994</td>\n",
       "      <td>-36.4</td>\n",
       "      <td>4.857</td>\n",
       "      <td>5191.0</td>\n",
       "      <td>no</td>\n",
       "    </tr>\n",
       "    <tr>\n",
       "      <th>...</th>\n",
       "      <td>...</td>\n",
       "      <td>...</td>\n",
       "      <td>...</td>\n",
       "      <td>...</td>\n",
       "      <td>...</td>\n",
       "      <td>...</td>\n",
       "      <td>...</td>\n",
       "      <td>...</td>\n",
       "      <td>...</td>\n",
       "      <td>...</td>\n",
       "      <td>...</td>\n",
       "      <td>...</td>\n",
       "      <td>...</td>\n",
       "      <td>...</td>\n",
       "      <td>...</td>\n",
       "      <td>...</td>\n",
       "      <td>...</td>\n",
       "      <td>...</td>\n",
       "      <td>...</td>\n",
       "      <td>...</td>\n",
       "      <td>...</td>\n",
       "    </tr>\n",
       "    <tr>\n",
       "      <th>10651</th>\n",
       "      <td>73</td>\n",
       "      <td>retired</td>\n",
       "      <td>married</td>\n",
       "      <td>professional.course</td>\n",
       "      <td>no</td>\n",
       "      <td>yes</td>\n",
       "      <td>no</td>\n",
       "      <td>cellular</td>\n",
       "      <td>nov</td>\n",
       "      <td>fri</td>\n",
       "      <td>334</td>\n",
       "      <td>1</td>\n",
       "      <td>999</td>\n",
       "      <td>0</td>\n",
       "      <td>nonexistent</td>\n",
       "      <td>-1.1</td>\n",
       "      <td>94.767</td>\n",
       "      <td>-50.8</td>\n",
       "      <td>1.028</td>\n",
       "      <td>4963.6</td>\n",
       "      <td>yes</td>\n",
       "    </tr>\n",
       "    <tr>\n",
       "      <th>10652</th>\n",
       "      <td>46</td>\n",
       "      <td>blue-collar</td>\n",
       "      <td>married</td>\n",
       "      <td>professional.course</td>\n",
       "      <td>no</td>\n",
       "      <td>no</td>\n",
       "      <td>no</td>\n",
       "      <td>cellular</td>\n",
       "      <td>nov</td>\n",
       "      <td>fri</td>\n",
       "      <td>383</td>\n",
       "      <td>1</td>\n",
       "      <td>999</td>\n",
       "      <td>0</td>\n",
       "      <td>nonexistent</td>\n",
       "      <td>-1.1</td>\n",
       "      <td>94.767</td>\n",
       "      <td>-50.8</td>\n",
       "      <td>1.028</td>\n",
       "      <td>4963.6</td>\n",
       "      <td>no</td>\n",
       "    </tr>\n",
       "    <tr>\n",
       "      <th>10653</th>\n",
       "      <td>56</td>\n",
       "      <td>retired</td>\n",
       "      <td>married</td>\n",
       "      <td>university.degree</td>\n",
       "      <td>no</td>\n",
       "      <td>yes</td>\n",
       "      <td>no</td>\n",
       "      <td>cellular</td>\n",
       "      <td>nov</td>\n",
       "      <td>fri</td>\n",
       "      <td>189</td>\n",
       "      <td>2</td>\n",
       "      <td>999</td>\n",
       "      <td>0</td>\n",
       "      <td>nonexistent</td>\n",
       "      <td>-1.1</td>\n",
       "      <td>94.767</td>\n",
       "      <td>-50.8</td>\n",
       "      <td>1.028</td>\n",
       "      <td>4963.6</td>\n",
       "      <td>no</td>\n",
       "    </tr>\n",
       "    <tr>\n",
       "      <th>10654</th>\n",
       "      <td>44</td>\n",
       "      <td>technician</td>\n",
       "      <td>married</td>\n",
       "      <td>professional.course</td>\n",
       "      <td>no</td>\n",
       "      <td>no</td>\n",
       "      <td>no</td>\n",
       "      <td>cellular</td>\n",
       "      <td>nov</td>\n",
       "      <td>fri</td>\n",
       "      <td>442</td>\n",
       "      <td>1</td>\n",
       "      <td>999</td>\n",
       "      <td>0</td>\n",
       "      <td>nonexistent</td>\n",
       "      <td>-1.1</td>\n",
       "      <td>94.767</td>\n",
       "      <td>-50.8</td>\n",
       "      <td>1.028</td>\n",
       "      <td>4963.6</td>\n",
       "      <td>yes</td>\n",
       "    </tr>\n",
       "    <tr>\n",
       "      <th>10655</th>\n",
       "      <td>74</td>\n",
       "      <td>retired</td>\n",
       "      <td>married</td>\n",
       "      <td>professional.course</td>\n",
       "      <td>no</td>\n",
       "      <td>yes</td>\n",
       "      <td>no</td>\n",
       "      <td>cellular</td>\n",
       "      <td>nov</td>\n",
       "      <td>fri</td>\n",
       "      <td>239</td>\n",
       "      <td>3</td>\n",
       "      <td>999</td>\n",
       "      <td>1</td>\n",
       "      <td>failure</td>\n",
       "      <td>-1.1</td>\n",
       "      <td>94.767</td>\n",
       "      <td>-50.8</td>\n",
       "      <td>1.028</td>\n",
       "      <td>4963.6</td>\n",
       "      <td>no</td>\n",
       "    </tr>\n",
       "  </tbody>\n",
       "</table>\n",
       "<p>10656 rows × 21 columns</p>\n",
       "</div>"
      ],
      "text/plain": [
       "       age          job  marital  ... euribor3m nr.employed    y\n",
       "0       56    housemaid  married  ...     4.857      5191.0   no\n",
       "1       57     services  married  ...     4.857      5191.0   no\n",
       "2       37     services  married  ...     4.857      5191.0   no\n",
       "3       40       admin.  married  ...     4.857      5191.0   no\n",
       "4       56     services  married  ...     4.857      5191.0   no\n",
       "...    ...          ...      ...  ...       ...         ...  ...\n",
       "10651   73      retired  married  ...     1.028      4963.6  yes\n",
       "10652   46  blue-collar  married  ...     1.028      4963.6   no\n",
       "10653   56      retired  married  ...     1.028      4963.6   no\n",
       "10654   44   technician  married  ...     1.028      4963.6  yes\n",
       "10655   74      retired  married  ...     1.028      4963.6   no\n",
       "\n",
       "[10656 rows x 21 columns]"
      ]
     },
     "execution_count": 3,
     "metadata": {
      "tags": []
     },
     "output_type": "execute_result"
    }
   ],
   "source": [
    "data"
   ]
  },
  {
   "cell_type": "markdown",
   "metadata": {
    "id": "9Nnh8TOlAmzZ"
   },
   "source": [
    "Visualización de la dimensión del dataset."
   ]
  },
  {
   "cell_type": "code",
   "execution_count": 4,
   "metadata": {
    "colab": {
     "base_uri": "https://localhost:8080/"
    },
    "executionInfo": {
     "elapsed": 2815,
     "status": "ok",
     "timestamp": 1612444921432,
     "user": {
      "displayName": "INÉS HERNÁNDEZ SÁNCHEZ",
      "photoUrl": "",
      "userId": "05427300555485243097"
     },
     "user_tz": -60
    },
    "id": "wKzrFzTBAmza",
    "outputId": "45668d93-cbe5-40fc-e84b-439cc2ce67ac"
   },
   "outputs": [
    {
     "data": {
      "text/plain": [
       "(10656, 21)"
      ]
     },
     "execution_count": 4,
     "metadata": {
      "tags": []
     },
     "output_type": "execute_result"
    }
   ],
   "source": [
    "data.shape"
   ]
  },
  {
   "cell_type": "markdown",
   "metadata": {
    "id": "ZN4LkdRTAmzc"
   },
   "source": [
    "El dataset que vamos a tratar contiene 10656 registros y 20 variables mas la variable target."
   ]
  },
  {
   "cell_type": "markdown",
   "metadata": {
    "id": "hWELSOOgAmzd"
   },
   "source": [
    "Puede existir la posibilidad que existan registros duplicados entonces los eliminamos. Lo comprobamos:"
   ]
  },
  {
   "cell_type": "code",
   "execution_count": 5,
   "metadata": {
    "executionInfo": {
     "elapsed": 2798,
     "status": "ok",
     "timestamp": 1612444921433,
     "user": {
      "displayName": "INÉS HERNÁNDEZ SÁNCHEZ",
      "photoUrl": "",
      "userId": "05427300555485243097"
     },
     "user_tz": -60
    },
    "id": "CdsNNCu3Amzd"
   },
   "outputs": [],
   "source": [
    "data=data.drop_duplicates()"
   ]
  },
  {
   "cell_type": "code",
   "execution_count": 6,
   "metadata": {
    "executionInfo": {
     "elapsed": 2786,
     "status": "ok",
     "timestamp": 1612444921434,
     "user": {
      "displayName": "INÉS HERNÁNDEZ SÁNCHEZ",
      "photoUrl": "",
      "userId": "05427300555485243097"
     },
     "user_tz": -60
    },
    "id": "baKy9H3_Amze"
   },
   "outputs": [],
   "source": [
    "data=data.reset_index()"
   ]
  },
  {
   "cell_type": "code",
   "execution_count": 7,
   "metadata": {
    "executionInfo": {
     "elapsed": 2774,
     "status": "ok",
     "timestamp": 1612444921435,
     "user": {
      "displayName": "INÉS HERNÁNDEZ SÁNCHEZ",
      "photoUrl": "",
      "userId": "05427300555485243097"
     },
     "user_tz": -60
    },
    "id": "FQa_L7oIAmzf"
   },
   "outputs": [],
   "source": [
    "data.drop([\"index\"],axis=1,inplace=True)"
   ]
  },
  {
   "cell_type": "code",
   "execution_count": 8,
   "metadata": {
    "colab": {
     "base_uri": "https://localhost:8080/",
     "height": 419
    },
    "executionInfo": {
     "elapsed": 2757,
     "status": "ok",
     "timestamp": 1612444921437,
     "user": {
      "displayName": "INÉS HERNÁNDEZ SÁNCHEZ",
      "photoUrl": "",
      "userId": "05427300555485243097"
     },
     "user_tz": -60
    },
    "id": "Oqlz3JAYAmzf",
    "outputId": "69468a66-4017-4609-8138-2f421631178d"
   },
   "outputs": [
    {
     "data": {
      "text/html": [
       "<div>\n",
       "<style scoped>\n",
       "    .dataframe tbody tr th:only-of-type {\n",
       "        vertical-align: middle;\n",
       "    }\n",
       "\n",
       "    .dataframe tbody tr th {\n",
       "        vertical-align: top;\n",
       "    }\n",
       "\n",
       "    .dataframe thead th {\n",
       "        text-align: right;\n",
       "    }\n",
       "</style>\n",
       "<table border=\"1\" class=\"dataframe\">\n",
       "  <thead>\n",
       "    <tr style=\"text-align: right;\">\n",
       "      <th></th>\n",
       "      <th>age</th>\n",
       "      <th>job</th>\n",
       "      <th>marital</th>\n",
       "      <th>education</th>\n",
       "      <th>default</th>\n",
       "      <th>housing</th>\n",
       "      <th>loan</th>\n",
       "      <th>contact</th>\n",
       "      <th>month</th>\n",
       "      <th>day_of_week</th>\n",
       "      <th>duration</th>\n",
       "      <th>campaign</th>\n",
       "      <th>pdays</th>\n",
       "      <th>previous</th>\n",
       "      <th>poutcome</th>\n",
       "      <th>emp.var.rate</th>\n",
       "      <th>cons.price.idx</th>\n",
       "      <th>cons.conf.idx</th>\n",
       "      <th>euribor3m</th>\n",
       "      <th>nr.employed</th>\n",
       "      <th>y</th>\n",
       "    </tr>\n",
       "  </thead>\n",
       "  <tbody>\n",
       "    <tr>\n",
       "      <th>0</th>\n",
       "      <td>56</td>\n",
       "      <td>housemaid</td>\n",
       "      <td>married</td>\n",
       "      <td>basic.4y</td>\n",
       "      <td>no</td>\n",
       "      <td>no</td>\n",
       "      <td>no</td>\n",
       "      <td>telephone</td>\n",
       "      <td>may</td>\n",
       "      <td>mon</td>\n",
       "      <td>261</td>\n",
       "      <td>1</td>\n",
       "      <td>999</td>\n",
       "      <td>0</td>\n",
       "      <td>nonexistent</td>\n",
       "      <td>1.1</td>\n",
       "      <td>93.994</td>\n",
       "      <td>-36.4</td>\n",
       "      <td>4.857</td>\n",
       "      <td>5191.0</td>\n",
       "      <td>no</td>\n",
       "    </tr>\n",
       "    <tr>\n",
       "      <th>1</th>\n",
       "      <td>57</td>\n",
       "      <td>services</td>\n",
       "      <td>married</td>\n",
       "      <td>high.school</td>\n",
       "      <td>unknown</td>\n",
       "      <td>no</td>\n",
       "      <td>no</td>\n",
       "      <td>telephone</td>\n",
       "      <td>may</td>\n",
       "      <td>mon</td>\n",
       "      <td>149</td>\n",
       "      <td>1</td>\n",
       "      <td>999</td>\n",
       "      <td>0</td>\n",
       "      <td>nonexistent</td>\n",
       "      <td>1.1</td>\n",
       "      <td>93.994</td>\n",
       "      <td>-36.4</td>\n",
       "      <td>4.857</td>\n",
       "      <td>5191.0</td>\n",
       "      <td>no</td>\n",
       "    </tr>\n",
       "    <tr>\n",
       "      <th>2</th>\n",
       "      <td>37</td>\n",
       "      <td>services</td>\n",
       "      <td>married</td>\n",
       "      <td>high.school</td>\n",
       "      <td>no</td>\n",
       "      <td>yes</td>\n",
       "      <td>no</td>\n",
       "      <td>telephone</td>\n",
       "      <td>may</td>\n",
       "      <td>mon</td>\n",
       "      <td>226</td>\n",
       "      <td>1</td>\n",
       "      <td>999</td>\n",
       "      <td>0</td>\n",
       "      <td>nonexistent</td>\n",
       "      <td>1.1</td>\n",
       "      <td>93.994</td>\n",
       "      <td>-36.4</td>\n",
       "      <td>4.857</td>\n",
       "      <td>5191.0</td>\n",
       "      <td>no</td>\n",
       "    </tr>\n",
       "    <tr>\n",
       "      <th>3</th>\n",
       "      <td>40</td>\n",
       "      <td>admin.</td>\n",
       "      <td>married</td>\n",
       "      <td>basic.6y</td>\n",
       "      <td>no</td>\n",
       "      <td>no</td>\n",
       "      <td>no</td>\n",
       "      <td>telephone</td>\n",
       "      <td>may</td>\n",
       "      <td>mon</td>\n",
       "      <td>151</td>\n",
       "      <td>1</td>\n",
       "      <td>999</td>\n",
       "      <td>0</td>\n",
       "      <td>nonexistent</td>\n",
       "      <td>1.1</td>\n",
       "      <td>93.994</td>\n",
       "      <td>-36.4</td>\n",
       "      <td>4.857</td>\n",
       "      <td>5191.0</td>\n",
       "      <td>no</td>\n",
       "    </tr>\n",
       "    <tr>\n",
       "      <th>4</th>\n",
       "      <td>56</td>\n",
       "      <td>services</td>\n",
       "      <td>married</td>\n",
       "      <td>high.school</td>\n",
       "      <td>no</td>\n",
       "      <td>no</td>\n",
       "      <td>yes</td>\n",
       "      <td>telephone</td>\n",
       "      <td>may</td>\n",
       "      <td>mon</td>\n",
       "      <td>307</td>\n",
       "      <td>1</td>\n",
       "      <td>999</td>\n",
       "      <td>0</td>\n",
       "      <td>nonexistent</td>\n",
       "      <td>1.1</td>\n",
       "      <td>93.994</td>\n",
       "      <td>-36.4</td>\n",
       "      <td>4.857</td>\n",
       "      <td>5191.0</td>\n",
       "      <td>no</td>\n",
       "    </tr>\n",
       "    <tr>\n",
       "      <th>...</th>\n",
       "      <td>...</td>\n",
       "      <td>...</td>\n",
       "      <td>...</td>\n",
       "      <td>...</td>\n",
       "      <td>...</td>\n",
       "      <td>...</td>\n",
       "      <td>...</td>\n",
       "      <td>...</td>\n",
       "      <td>...</td>\n",
       "      <td>...</td>\n",
       "      <td>...</td>\n",
       "      <td>...</td>\n",
       "      <td>...</td>\n",
       "      <td>...</td>\n",
       "      <td>...</td>\n",
       "      <td>...</td>\n",
       "      <td>...</td>\n",
       "      <td>...</td>\n",
       "      <td>...</td>\n",
       "      <td>...</td>\n",
       "      <td>...</td>\n",
       "    </tr>\n",
       "    <tr>\n",
       "      <th>10648</th>\n",
       "      <td>73</td>\n",
       "      <td>retired</td>\n",
       "      <td>married</td>\n",
       "      <td>professional.course</td>\n",
       "      <td>no</td>\n",
       "      <td>yes</td>\n",
       "      <td>no</td>\n",
       "      <td>cellular</td>\n",
       "      <td>nov</td>\n",
       "      <td>fri</td>\n",
       "      <td>334</td>\n",
       "      <td>1</td>\n",
       "      <td>999</td>\n",
       "      <td>0</td>\n",
       "      <td>nonexistent</td>\n",
       "      <td>-1.1</td>\n",
       "      <td>94.767</td>\n",
       "      <td>-50.8</td>\n",
       "      <td>1.028</td>\n",
       "      <td>4963.6</td>\n",
       "      <td>yes</td>\n",
       "    </tr>\n",
       "    <tr>\n",
       "      <th>10649</th>\n",
       "      <td>46</td>\n",
       "      <td>blue-collar</td>\n",
       "      <td>married</td>\n",
       "      <td>professional.course</td>\n",
       "      <td>no</td>\n",
       "      <td>no</td>\n",
       "      <td>no</td>\n",
       "      <td>cellular</td>\n",
       "      <td>nov</td>\n",
       "      <td>fri</td>\n",
       "      <td>383</td>\n",
       "      <td>1</td>\n",
       "      <td>999</td>\n",
       "      <td>0</td>\n",
       "      <td>nonexistent</td>\n",
       "      <td>-1.1</td>\n",
       "      <td>94.767</td>\n",
       "      <td>-50.8</td>\n",
       "      <td>1.028</td>\n",
       "      <td>4963.6</td>\n",
       "      <td>no</td>\n",
       "    </tr>\n",
       "    <tr>\n",
       "      <th>10650</th>\n",
       "      <td>56</td>\n",
       "      <td>retired</td>\n",
       "      <td>married</td>\n",
       "      <td>university.degree</td>\n",
       "      <td>no</td>\n",
       "      <td>yes</td>\n",
       "      <td>no</td>\n",
       "      <td>cellular</td>\n",
       "      <td>nov</td>\n",
       "      <td>fri</td>\n",
       "      <td>189</td>\n",
       "      <td>2</td>\n",
       "      <td>999</td>\n",
       "      <td>0</td>\n",
       "      <td>nonexistent</td>\n",
       "      <td>-1.1</td>\n",
       "      <td>94.767</td>\n",
       "      <td>-50.8</td>\n",
       "      <td>1.028</td>\n",
       "      <td>4963.6</td>\n",
       "      <td>no</td>\n",
       "    </tr>\n",
       "    <tr>\n",
       "      <th>10651</th>\n",
       "      <td>44</td>\n",
       "      <td>technician</td>\n",
       "      <td>married</td>\n",
       "      <td>professional.course</td>\n",
       "      <td>no</td>\n",
       "      <td>no</td>\n",
       "      <td>no</td>\n",
       "      <td>cellular</td>\n",
       "      <td>nov</td>\n",
       "      <td>fri</td>\n",
       "      <td>442</td>\n",
       "      <td>1</td>\n",
       "      <td>999</td>\n",
       "      <td>0</td>\n",
       "      <td>nonexistent</td>\n",
       "      <td>-1.1</td>\n",
       "      <td>94.767</td>\n",
       "      <td>-50.8</td>\n",
       "      <td>1.028</td>\n",
       "      <td>4963.6</td>\n",
       "      <td>yes</td>\n",
       "    </tr>\n",
       "    <tr>\n",
       "      <th>10652</th>\n",
       "      <td>74</td>\n",
       "      <td>retired</td>\n",
       "      <td>married</td>\n",
       "      <td>professional.course</td>\n",
       "      <td>no</td>\n",
       "      <td>yes</td>\n",
       "      <td>no</td>\n",
       "      <td>cellular</td>\n",
       "      <td>nov</td>\n",
       "      <td>fri</td>\n",
       "      <td>239</td>\n",
       "      <td>3</td>\n",
       "      <td>999</td>\n",
       "      <td>1</td>\n",
       "      <td>failure</td>\n",
       "      <td>-1.1</td>\n",
       "      <td>94.767</td>\n",
       "      <td>-50.8</td>\n",
       "      <td>1.028</td>\n",
       "      <td>4963.6</td>\n",
       "      <td>no</td>\n",
       "    </tr>\n",
       "  </tbody>\n",
       "</table>\n",
       "<p>10653 rows × 21 columns</p>\n",
       "</div>"
      ],
      "text/plain": [
       "       age          job  marital  ... euribor3m nr.employed    y\n",
       "0       56    housemaid  married  ...     4.857      5191.0   no\n",
       "1       57     services  married  ...     4.857      5191.0   no\n",
       "2       37     services  married  ...     4.857      5191.0   no\n",
       "3       40       admin.  married  ...     4.857      5191.0   no\n",
       "4       56     services  married  ...     4.857      5191.0   no\n",
       "...    ...          ...      ...  ...       ...         ...  ...\n",
       "10648   73      retired  married  ...     1.028      4963.6  yes\n",
       "10649   46  blue-collar  married  ...     1.028      4963.6   no\n",
       "10650   56      retired  married  ...     1.028      4963.6   no\n",
       "10651   44   technician  married  ...     1.028      4963.6  yes\n",
       "10652   74      retired  married  ...     1.028      4963.6   no\n",
       "\n",
       "[10653 rows x 21 columns]"
      ]
     },
     "execution_count": 8,
     "metadata": {
      "tags": []
     },
     "output_type": "execute_result"
    }
   ],
   "source": [
    "data"
   ]
  },
  {
   "cell_type": "markdown",
   "metadata": {
    "id": "KTNCyHekAmzg"
   },
   "source": [
    "Había tres filas duplicadas que se han eliminado."
   ]
  },
  {
   "cell_type": "markdown",
   "metadata": {
    "id": "ZqSPpifBAmzg"
   },
   "source": [
    "Renombramos ciertos atributos y variables para manejarlos con mayor fluidez. La variable \"y\" se llamará \"target\" que tomaba valores yes o no, ahora tomará valores binarios 0/1."
   ]
  },
  {
   "cell_type": "code",
   "execution_count": 9,
   "metadata": {
    "executionInfo": {
     "elapsed": 2705,
     "status": "ok",
     "timestamp": 1612444921439,
     "user": {
      "displayName": "INÉS HERNÁNDEZ SÁNCHEZ",
      "photoUrl": "",
      "userId": "05427300555485243097"
     },
     "user_tz": -60
    },
    "id": "rt8lfNMeAmzh"
   },
   "outputs": [],
   "source": [
    "data.replace(['basic.6y','basic.4y', 'basic.9y'], 'Basic', inplace=True)\n",
    "data.rename(columns={'emp.var.rate':'empvarrate','cons.conf.idx':'consconfidx','cons.price.idx':'conspriceidx','nr.employed':'nremployed','day_of_week':'dayofweek','y':'target'},inplace=True)\n",
    "data[\"education\"] = np.where(data[\"education\"]==\"high.school\", \"High School\", data[\"education\"])\n",
    "data[\"education\"] = np.where(data[\"education\"]==\"professional.course\", \"Professional Course\", data[\"education\"])\n",
    "data[\"education\"] = np.where(data[\"education\"]==\"university.degree\", \"University Degree\", data[\"education\"])\n",
    "data[\"education\"] = np.where(data[\"education\"]==\"illiterate\", \"Illiterate\", data[\"education\"])\n",
    "data[\"target\"] = (data[\"target\"]==\"yes\").astype(int)"
   ]
  },
  {
   "cell_type": "markdown",
   "metadata": {
    "id": "6iukRRF8Amzh"
   },
   "source": [
    "Visualización de los diez primeros y ultimos registros del dataset con las variables y atributos renombrados."
   ]
  },
  {
   "cell_type": "code",
   "execution_count": 10,
   "metadata": {
    "colab": {
     "base_uri": "https://localhost:8080/",
     "height": 359
    },
    "executionInfo": {
     "elapsed": 2660,
     "status": "ok",
     "timestamp": 1612444921440,
     "user": {
      "displayName": "INÉS HERNÁNDEZ SÁNCHEZ",
      "photoUrl": "",
      "userId": "05427300555485243097"
     },
     "user_tz": -60
    },
    "id": "fCGnZ4zAAmzi",
    "outputId": "e54275fb-f83b-4c32-de79-45b3f3d81790"
   },
   "outputs": [
    {
     "data": {
      "text/html": [
       "<div>\n",
       "<style scoped>\n",
       "    .dataframe tbody tr th:only-of-type {\n",
       "        vertical-align: middle;\n",
       "    }\n",
       "\n",
       "    .dataframe tbody tr th {\n",
       "        vertical-align: top;\n",
       "    }\n",
       "\n",
       "    .dataframe thead th {\n",
       "        text-align: right;\n",
       "    }\n",
       "</style>\n",
       "<table border=\"1\" class=\"dataframe\">\n",
       "  <thead>\n",
       "    <tr style=\"text-align: right;\">\n",
       "      <th></th>\n",
       "      <th>age</th>\n",
       "      <th>job</th>\n",
       "      <th>marital</th>\n",
       "      <th>education</th>\n",
       "      <th>default</th>\n",
       "      <th>housing</th>\n",
       "      <th>loan</th>\n",
       "      <th>contact</th>\n",
       "      <th>month</th>\n",
       "      <th>dayofweek</th>\n",
       "      <th>duration</th>\n",
       "      <th>campaign</th>\n",
       "      <th>pdays</th>\n",
       "      <th>previous</th>\n",
       "      <th>poutcome</th>\n",
       "      <th>empvarrate</th>\n",
       "      <th>conspriceidx</th>\n",
       "      <th>consconfidx</th>\n",
       "      <th>euribor3m</th>\n",
       "      <th>nremployed</th>\n",
       "      <th>target</th>\n",
       "    </tr>\n",
       "  </thead>\n",
       "  <tbody>\n",
       "    <tr>\n",
       "      <th>0</th>\n",
       "      <td>56</td>\n",
       "      <td>housemaid</td>\n",
       "      <td>married</td>\n",
       "      <td>Basic</td>\n",
       "      <td>no</td>\n",
       "      <td>no</td>\n",
       "      <td>no</td>\n",
       "      <td>telephone</td>\n",
       "      <td>may</td>\n",
       "      <td>mon</td>\n",
       "      <td>261</td>\n",
       "      <td>1</td>\n",
       "      <td>999</td>\n",
       "      <td>0</td>\n",
       "      <td>nonexistent</td>\n",
       "      <td>1.1</td>\n",
       "      <td>93.994</td>\n",
       "      <td>-36.4</td>\n",
       "      <td>4.857</td>\n",
       "      <td>5191.0</td>\n",
       "      <td>0</td>\n",
       "    </tr>\n",
       "    <tr>\n",
       "      <th>1</th>\n",
       "      <td>57</td>\n",
       "      <td>services</td>\n",
       "      <td>married</td>\n",
       "      <td>High School</td>\n",
       "      <td>unknown</td>\n",
       "      <td>no</td>\n",
       "      <td>no</td>\n",
       "      <td>telephone</td>\n",
       "      <td>may</td>\n",
       "      <td>mon</td>\n",
       "      <td>149</td>\n",
       "      <td>1</td>\n",
       "      <td>999</td>\n",
       "      <td>0</td>\n",
       "      <td>nonexistent</td>\n",
       "      <td>1.1</td>\n",
       "      <td>93.994</td>\n",
       "      <td>-36.4</td>\n",
       "      <td>4.857</td>\n",
       "      <td>5191.0</td>\n",
       "      <td>0</td>\n",
       "    </tr>\n",
       "    <tr>\n",
       "      <th>2</th>\n",
       "      <td>37</td>\n",
       "      <td>services</td>\n",
       "      <td>married</td>\n",
       "      <td>High School</td>\n",
       "      <td>no</td>\n",
       "      <td>yes</td>\n",
       "      <td>no</td>\n",
       "      <td>telephone</td>\n",
       "      <td>may</td>\n",
       "      <td>mon</td>\n",
       "      <td>226</td>\n",
       "      <td>1</td>\n",
       "      <td>999</td>\n",
       "      <td>0</td>\n",
       "      <td>nonexistent</td>\n",
       "      <td>1.1</td>\n",
       "      <td>93.994</td>\n",
       "      <td>-36.4</td>\n",
       "      <td>4.857</td>\n",
       "      <td>5191.0</td>\n",
       "      <td>0</td>\n",
       "    </tr>\n",
       "    <tr>\n",
       "      <th>3</th>\n",
       "      <td>40</td>\n",
       "      <td>admin.</td>\n",
       "      <td>married</td>\n",
       "      <td>Basic</td>\n",
       "      <td>no</td>\n",
       "      <td>no</td>\n",
       "      <td>no</td>\n",
       "      <td>telephone</td>\n",
       "      <td>may</td>\n",
       "      <td>mon</td>\n",
       "      <td>151</td>\n",
       "      <td>1</td>\n",
       "      <td>999</td>\n",
       "      <td>0</td>\n",
       "      <td>nonexistent</td>\n",
       "      <td>1.1</td>\n",
       "      <td>93.994</td>\n",
       "      <td>-36.4</td>\n",
       "      <td>4.857</td>\n",
       "      <td>5191.0</td>\n",
       "      <td>0</td>\n",
       "    </tr>\n",
       "    <tr>\n",
       "      <th>4</th>\n",
       "      <td>56</td>\n",
       "      <td>services</td>\n",
       "      <td>married</td>\n",
       "      <td>High School</td>\n",
       "      <td>no</td>\n",
       "      <td>no</td>\n",
       "      <td>yes</td>\n",
       "      <td>telephone</td>\n",
       "      <td>may</td>\n",
       "      <td>mon</td>\n",
       "      <td>307</td>\n",
       "      <td>1</td>\n",
       "      <td>999</td>\n",
       "      <td>0</td>\n",
       "      <td>nonexistent</td>\n",
       "      <td>1.1</td>\n",
       "      <td>93.994</td>\n",
       "      <td>-36.4</td>\n",
       "      <td>4.857</td>\n",
       "      <td>5191.0</td>\n",
       "      <td>0</td>\n",
       "    </tr>\n",
       "    <tr>\n",
       "      <th>5</th>\n",
       "      <td>41</td>\n",
       "      <td>blue-collar</td>\n",
       "      <td>divorced</td>\n",
       "      <td>Basic</td>\n",
       "      <td>unknown</td>\n",
       "      <td>yes</td>\n",
       "      <td>no</td>\n",
       "      <td>telephone</td>\n",
       "      <td>may</td>\n",
       "      <td>mon</td>\n",
       "      <td>1575</td>\n",
       "      <td>1</td>\n",
       "      <td>999</td>\n",
       "      <td>0</td>\n",
       "      <td>nonexistent</td>\n",
       "      <td>1.1</td>\n",
       "      <td>93.994</td>\n",
       "      <td>-36.4</td>\n",
       "      <td>4.857</td>\n",
       "      <td>5191.0</td>\n",
       "      <td>1</td>\n",
       "    </tr>\n",
       "    <tr>\n",
       "      <th>6</th>\n",
       "      <td>55</td>\n",
       "      <td>technician</td>\n",
       "      <td>married</td>\n",
       "      <td>University Degree</td>\n",
       "      <td>no</td>\n",
       "      <td>no</td>\n",
       "      <td>no</td>\n",
       "      <td>telephone</td>\n",
       "      <td>may</td>\n",
       "      <td>mon</td>\n",
       "      <td>349</td>\n",
       "      <td>1</td>\n",
       "      <td>999</td>\n",
       "      <td>0</td>\n",
       "      <td>nonexistent</td>\n",
       "      <td>1.1</td>\n",
       "      <td>93.994</td>\n",
       "      <td>-36.4</td>\n",
       "      <td>4.857</td>\n",
       "      <td>5191.0</td>\n",
       "      <td>0</td>\n",
       "    </tr>\n",
       "    <tr>\n",
       "      <th>7</th>\n",
       "      <td>49</td>\n",
       "      <td>technician</td>\n",
       "      <td>married</td>\n",
       "      <td>Basic</td>\n",
       "      <td>no</td>\n",
       "      <td>no</td>\n",
       "      <td>no</td>\n",
       "      <td>telephone</td>\n",
       "      <td>may</td>\n",
       "      <td>mon</td>\n",
       "      <td>1467</td>\n",
       "      <td>1</td>\n",
       "      <td>999</td>\n",
       "      <td>0</td>\n",
       "      <td>nonexistent</td>\n",
       "      <td>1.1</td>\n",
       "      <td>93.994</td>\n",
       "      <td>-36.4</td>\n",
       "      <td>4.857</td>\n",
       "      <td>5191.0</td>\n",
       "      <td>1</td>\n",
       "    </tr>\n",
       "    <tr>\n",
       "      <th>8</th>\n",
       "      <td>34</td>\n",
       "      <td>admin.</td>\n",
       "      <td>married</td>\n",
       "      <td>High School</td>\n",
       "      <td>no</td>\n",
       "      <td>yes</td>\n",
       "      <td>no</td>\n",
       "      <td>telephone</td>\n",
       "      <td>may</td>\n",
       "      <td>mon</td>\n",
       "      <td>188</td>\n",
       "      <td>2</td>\n",
       "      <td>999</td>\n",
       "      <td>0</td>\n",
       "      <td>nonexistent</td>\n",
       "      <td>1.1</td>\n",
       "      <td>93.994</td>\n",
       "      <td>-36.4</td>\n",
       "      <td>4.857</td>\n",
       "      <td>5191.0</td>\n",
       "      <td>0</td>\n",
       "    </tr>\n",
       "    <tr>\n",
       "      <th>9</th>\n",
       "      <td>50</td>\n",
       "      <td>admin.</td>\n",
       "      <td>married</td>\n",
       "      <td>Basic</td>\n",
       "      <td>no</td>\n",
       "      <td>no</td>\n",
       "      <td>no</td>\n",
       "      <td>telephone</td>\n",
       "      <td>may</td>\n",
       "      <td>mon</td>\n",
       "      <td>61</td>\n",
       "      <td>1</td>\n",
       "      <td>999</td>\n",
       "      <td>0</td>\n",
       "      <td>nonexistent</td>\n",
       "      <td>1.1</td>\n",
       "      <td>93.994</td>\n",
       "      <td>-36.4</td>\n",
       "      <td>4.857</td>\n",
       "      <td>5191.0</td>\n",
       "      <td>0</td>\n",
       "    </tr>\n",
       "  </tbody>\n",
       "</table>\n",
       "</div>"
      ],
      "text/plain": [
       "   age          job   marital  ... euribor3m nremployed target\n",
       "0   56    housemaid   married  ...     4.857     5191.0      0\n",
       "1   57     services   married  ...     4.857     5191.0      0\n",
       "2   37     services   married  ...     4.857     5191.0      0\n",
       "3   40       admin.   married  ...     4.857     5191.0      0\n",
       "4   56     services   married  ...     4.857     5191.0      0\n",
       "5   41  blue-collar  divorced  ...     4.857     5191.0      1\n",
       "6   55   technician   married  ...     4.857     5191.0      0\n",
       "7   49   technician   married  ...     4.857     5191.0      1\n",
       "8   34       admin.   married  ...     4.857     5191.0      0\n",
       "9   50       admin.   married  ...     4.857     5191.0      0\n",
       "\n",
       "[10 rows x 21 columns]"
      ]
     },
     "execution_count": 10,
     "metadata": {
      "tags": []
     },
     "output_type": "execute_result"
    }
   ],
   "source": [
    "data.head(10)"
   ]
  },
  {
   "cell_type": "code",
   "execution_count": 11,
   "metadata": {
    "colab": {
     "base_uri": "https://localhost:8080/",
     "height": 359
    },
    "executionInfo": {
     "elapsed": 2911,
     "status": "ok",
     "timestamp": 1612444921728,
     "user": {
      "displayName": "INÉS HERNÁNDEZ SÁNCHEZ",
      "photoUrl": "",
      "userId": "05427300555485243097"
     },
     "user_tz": -60
    },
    "id": "mcOHkjeeAmzj",
    "outputId": "badaa219-2998-4242-8f90-bfe412bf4562"
   },
   "outputs": [
    {
     "data": {
      "text/html": [
       "<div>\n",
       "<style scoped>\n",
       "    .dataframe tbody tr th:only-of-type {\n",
       "        vertical-align: middle;\n",
       "    }\n",
       "\n",
       "    .dataframe tbody tr th {\n",
       "        vertical-align: top;\n",
       "    }\n",
       "\n",
       "    .dataframe thead th {\n",
       "        text-align: right;\n",
       "    }\n",
       "</style>\n",
       "<table border=\"1\" class=\"dataframe\">\n",
       "  <thead>\n",
       "    <tr style=\"text-align: right;\">\n",
       "      <th></th>\n",
       "      <th>age</th>\n",
       "      <th>job</th>\n",
       "      <th>marital</th>\n",
       "      <th>education</th>\n",
       "      <th>default</th>\n",
       "      <th>housing</th>\n",
       "      <th>loan</th>\n",
       "      <th>contact</th>\n",
       "      <th>month</th>\n",
       "      <th>dayofweek</th>\n",
       "      <th>duration</th>\n",
       "      <th>campaign</th>\n",
       "      <th>pdays</th>\n",
       "      <th>previous</th>\n",
       "      <th>poutcome</th>\n",
       "      <th>empvarrate</th>\n",
       "      <th>conspriceidx</th>\n",
       "      <th>consconfidx</th>\n",
       "      <th>euribor3m</th>\n",
       "      <th>nremployed</th>\n",
       "      <th>target</th>\n",
       "    </tr>\n",
       "  </thead>\n",
       "  <tbody>\n",
       "    <tr>\n",
       "      <th>10643</th>\n",
       "      <td>62</td>\n",
       "      <td>retired</td>\n",
       "      <td>married</td>\n",
       "      <td>University Degree</td>\n",
       "      <td>no</td>\n",
       "      <td>no</td>\n",
       "      <td>no</td>\n",
       "      <td>cellular</td>\n",
       "      <td>nov</td>\n",
       "      <td>thu</td>\n",
       "      <td>483</td>\n",
       "      <td>2</td>\n",
       "      <td>6</td>\n",
       "      <td>3</td>\n",
       "      <td>success</td>\n",
       "      <td>-1.1</td>\n",
       "      <td>94.767</td>\n",
       "      <td>-50.8</td>\n",
       "      <td>1.031</td>\n",
       "      <td>4963.6</td>\n",
       "      <td>1</td>\n",
       "    </tr>\n",
       "    <tr>\n",
       "      <th>10644</th>\n",
       "      <td>64</td>\n",
       "      <td>retired</td>\n",
       "      <td>divorced</td>\n",
       "      <td>Professional Course</td>\n",
       "      <td>no</td>\n",
       "      <td>yes</td>\n",
       "      <td>no</td>\n",
       "      <td>cellular</td>\n",
       "      <td>nov</td>\n",
       "      <td>fri</td>\n",
       "      <td>151</td>\n",
       "      <td>3</td>\n",
       "      <td>999</td>\n",
       "      <td>0</td>\n",
       "      <td>nonexistent</td>\n",
       "      <td>-1.1</td>\n",
       "      <td>94.767</td>\n",
       "      <td>-50.8</td>\n",
       "      <td>1.028</td>\n",
       "      <td>4963.6</td>\n",
       "      <td>0</td>\n",
       "    </tr>\n",
       "    <tr>\n",
       "      <th>10645</th>\n",
       "      <td>36</td>\n",
       "      <td>admin.</td>\n",
       "      <td>married</td>\n",
       "      <td>University Degree</td>\n",
       "      <td>no</td>\n",
       "      <td>no</td>\n",
       "      <td>no</td>\n",
       "      <td>cellular</td>\n",
       "      <td>nov</td>\n",
       "      <td>fri</td>\n",
       "      <td>254</td>\n",
       "      <td>2</td>\n",
       "      <td>999</td>\n",
       "      <td>0</td>\n",
       "      <td>nonexistent</td>\n",
       "      <td>-1.1</td>\n",
       "      <td>94.767</td>\n",
       "      <td>-50.8</td>\n",
       "      <td>1.028</td>\n",
       "      <td>4963.6</td>\n",
       "      <td>0</td>\n",
       "    </tr>\n",
       "    <tr>\n",
       "      <th>10646</th>\n",
       "      <td>37</td>\n",
       "      <td>admin.</td>\n",
       "      <td>married</td>\n",
       "      <td>University Degree</td>\n",
       "      <td>no</td>\n",
       "      <td>yes</td>\n",
       "      <td>no</td>\n",
       "      <td>cellular</td>\n",
       "      <td>nov</td>\n",
       "      <td>fri</td>\n",
       "      <td>281</td>\n",
       "      <td>1</td>\n",
       "      <td>999</td>\n",
       "      <td>0</td>\n",
       "      <td>nonexistent</td>\n",
       "      <td>-1.1</td>\n",
       "      <td>94.767</td>\n",
       "      <td>-50.8</td>\n",
       "      <td>1.028</td>\n",
       "      <td>4963.6</td>\n",
       "      <td>1</td>\n",
       "    </tr>\n",
       "    <tr>\n",
       "      <th>10647</th>\n",
       "      <td>29</td>\n",
       "      <td>unemployed</td>\n",
       "      <td>single</td>\n",
       "      <td>Basic</td>\n",
       "      <td>no</td>\n",
       "      <td>yes</td>\n",
       "      <td>no</td>\n",
       "      <td>cellular</td>\n",
       "      <td>nov</td>\n",
       "      <td>fri</td>\n",
       "      <td>112</td>\n",
       "      <td>1</td>\n",
       "      <td>9</td>\n",
       "      <td>1</td>\n",
       "      <td>success</td>\n",
       "      <td>-1.1</td>\n",
       "      <td>94.767</td>\n",
       "      <td>-50.8</td>\n",
       "      <td>1.028</td>\n",
       "      <td>4963.6</td>\n",
       "      <td>0</td>\n",
       "    </tr>\n",
       "    <tr>\n",
       "      <th>10648</th>\n",
       "      <td>73</td>\n",
       "      <td>retired</td>\n",
       "      <td>married</td>\n",
       "      <td>Professional Course</td>\n",
       "      <td>no</td>\n",
       "      <td>yes</td>\n",
       "      <td>no</td>\n",
       "      <td>cellular</td>\n",
       "      <td>nov</td>\n",
       "      <td>fri</td>\n",
       "      <td>334</td>\n",
       "      <td>1</td>\n",
       "      <td>999</td>\n",
       "      <td>0</td>\n",
       "      <td>nonexistent</td>\n",
       "      <td>-1.1</td>\n",
       "      <td>94.767</td>\n",
       "      <td>-50.8</td>\n",
       "      <td>1.028</td>\n",
       "      <td>4963.6</td>\n",
       "      <td>1</td>\n",
       "    </tr>\n",
       "    <tr>\n",
       "      <th>10649</th>\n",
       "      <td>46</td>\n",
       "      <td>blue-collar</td>\n",
       "      <td>married</td>\n",
       "      <td>Professional Course</td>\n",
       "      <td>no</td>\n",
       "      <td>no</td>\n",
       "      <td>no</td>\n",
       "      <td>cellular</td>\n",
       "      <td>nov</td>\n",
       "      <td>fri</td>\n",
       "      <td>383</td>\n",
       "      <td>1</td>\n",
       "      <td>999</td>\n",
       "      <td>0</td>\n",
       "      <td>nonexistent</td>\n",
       "      <td>-1.1</td>\n",
       "      <td>94.767</td>\n",
       "      <td>-50.8</td>\n",
       "      <td>1.028</td>\n",
       "      <td>4963.6</td>\n",
       "      <td>0</td>\n",
       "    </tr>\n",
       "    <tr>\n",
       "      <th>10650</th>\n",
       "      <td>56</td>\n",
       "      <td>retired</td>\n",
       "      <td>married</td>\n",
       "      <td>University Degree</td>\n",
       "      <td>no</td>\n",
       "      <td>yes</td>\n",
       "      <td>no</td>\n",
       "      <td>cellular</td>\n",
       "      <td>nov</td>\n",
       "      <td>fri</td>\n",
       "      <td>189</td>\n",
       "      <td>2</td>\n",
       "      <td>999</td>\n",
       "      <td>0</td>\n",
       "      <td>nonexistent</td>\n",
       "      <td>-1.1</td>\n",
       "      <td>94.767</td>\n",
       "      <td>-50.8</td>\n",
       "      <td>1.028</td>\n",
       "      <td>4963.6</td>\n",
       "      <td>0</td>\n",
       "    </tr>\n",
       "    <tr>\n",
       "      <th>10651</th>\n",
       "      <td>44</td>\n",
       "      <td>technician</td>\n",
       "      <td>married</td>\n",
       "      <td>Professional Course</td>\n",
       "      <td>no</td>\n",
       "      <td>no</td>\n",
       "      <td>no</td>\n",
       "      <td>cellular</td>\n",
       "      <td>nov</td>\n",
       "      <td>fri</td>\n",
       "      <td>442</td>\n",
       "      <td>1</td>\n",
       "      <td>999</td>\n",
       "      <td>0</td>\n",
       "      <td>nonexistent</td>\n",
       "      <td>-1.1</td>\n",
       "      <td>94.767</td>\n",
       "      <td>-50.8</td>\n",
       "      <td>1.028</td>\n",
       "      <td>4963.6</td>\n",
       "      <td>1</td>\n",
       "    </tr>\n",
       "    <tr>\n",
       "      <th>10652</th>\n",
       "      <td>74</td>\n",
       "      <td>retired</td>\n",
       "      <td>married</td>\n",
       "      <td>Professional Course</td>\n",
       "      <td>no</td>\n",
       "      <td>yes</td>\n",
       "      <td>no</td>\n",
       "      <td>cellular</td>\n",
       "      <td>nov</td>\n",
       "      <td>fri</td>\n",
       "      <td>239</td>\n",
       "      <td>3</td>\n",
       "      <td>999</td>\n",
       "      <td>1</td>\n",
       "      <td>failure</td>\n",
       "      <td>-1.1</td>\n",
       "      <td>94.767</td>\n",
       "      <td>-50.8</td>\n",
       "      <td>1.028</td>\n",
       "      <td>4963.6</td>\n",
       "      <td>0</td>\n",
       "    </tr>\n",
       "  </tbody>\n",
       "</table>\n",
       "</div>"
      ],
      "text/plain": [
       "       age          job   marital  ... euribor3m nremployed target\n",
       "10643   62      retired   married  ...     1.031     4963.6      1\n",
       "10644   64      retired  divorced  ...     1.028     4963.6      0\n",
       "10645   36       admin.   married  ...     1.028     4963.6      0\n",
       "10646   37       admin.   married  ...     1.028     4963.6      1\n",
       "10647   29   unemployed    single  ...     1.028     4963.6      0\n",
       "10648   73      retired   married  ...     1.028     4963.6      1\n",
       "10649   46  blue-collar   married  ...     1.028     4963.6      0\n",
       "10650   56      retired   married  ...     1.028     4963.6      0\n",
       "10651   44   technician   married  ...     1.028     4963.6      1\n",
       "10652   74      retired   married  ...     1.028     4963.6      0\n",
       "\n",
       "[10 rows x 21 columns]"
      ]
     },
     "execution_count": 11,
     "metadata": {
      "tags": []
     },
     "output_type": "execute_result"
    }
   ],
   "source": [
    "data.tail(10)"
   ]
  },
  {
   "cell_type": "markdown",
   "metadata": {
    "id": "dn3zrbLqAmzj"
   },
   "source": [
    "Visualización del nombre de las columnas del dataset y de que tipo son cada una de estas. "
   ]
  },
  {
   "cell_type": "code",
   "execution_count": 12,
   "metadata": {
    "colab": {
     "base_uri": "https://localhost:8080/"
    },
    "executionInfo": {
     "elapsed": 2888,
     "status": "ok",
     "timestamp": 1612444921734,
     "user": {
      "displayName": "INÉS HERNÁNDEZ SÁNCHEZ",
      "photoUrl": "",
      "userId": "05427300555485243097"
     },
     "user_tz": -60
    },
    "id": "n6Ie1OA-Amzk",
    "outputId": "7cbe88c1-4750-4215-f400-323a0c9e793b"
   },
   "outputs": [
    {
     "data": {
      "text/plain": [
       "array(['age', 'job', 'marital', 'education', 'default', 'housing', 'loan',\n",
       "       'contact', 'month', 'dayofweek', 'duration', 'campaign', 'pdays',\n",
       "       'previous', 'poutcome', 'empvarrate', 'conspriceidx',\n",
       "       'consconfidx', 'euribor3m', 'nremployed', 'target'], dtype=object)"
      ]
     },
     "execution_count": 12,
     "metadata": {
      "tags": []
     },
     "output_type": "execute_result"
    }
   ],
   "source": [
    "data.columns.values"
   ]
  },
  {
   "cell_type": "code",
   "execution_count": 13,
   "metadata": {
    "colab": {
     "base_uri": "https://localhost:8080/"
    },
    "executionInfo": {
     "elapsed": 2865,
     "status": "ok",
     "timestamp": 1612444921742,
     "user": {
      "displayName": "INÉS HERNÁNDEZ SÁNCHEZ",
      "photoUrl": "",
      "userId": "05427300555485243097"
     },
     "user_tz": -60
    },
    "id": "Wbb3ksXfAmzl",
    "outputId": "f92576cd-f558-46a7-d8e5-77a8e6a20f8d"
   },
   "outputs": [
    {
     "data": {
      "text/plain": [
       "age               int64\n",
       "job              object\n",
       "marital          object\n",
       "education        object\n",
       "default          object\n",
       "housing          object\n",
       "loan             object\n",
       "contact          object\n",
       "month            object\n",
       "dayofweek        object\n",
       "duration          int64\n",
       "campaign          int64\n",
       "pdays             int64\n",
       "previous          int64\n",
       "poutcome         object\n",
       "empvarrate      float64\n",
       "conspriceidx    float64\n",
       "consconfidx     float64\n",
       "euribor3m       float64\n",
       "nremployed      float64\n",
       "target            int64\n",
       "dtype: object"
      ]
     },
     "execution_count": 13,
     "metadata": {
      "tags": []
     },
     "output_type": "execute_result"
    }
   ],
   "source": [
    "data.dtypes"
   ]
  },
  {
   "cell_type": "markdown",
   "metadata": {
    "id": "DSkx_-HDAmzl"
   },
   "source": [
    "Visualización de la variable target (cuantos 1's y 0's hay)"
   ]
  },
  {
   "cell_type": "code",
   "execution_count": 14,
   "metadata": {
    "colab": {
     "base_uri": "https://localhost:8080/"
    },
    "executionInfo": {
     "elapsed": 2836,
     "status": "ok",
     "timestamp": 1612444921744,
     "user": {
      "displayName": "INÉS HERNÁNDEZ SÁNCHEZ",
      "photoUrl": "",
      "userId": "05427300555485243097"
     },
     "user_tz": -60
    },
    "id": "Jj02z_TCAmzl",
    "outputId": "ef2f4182-986d-4a71-dee3-9c63b269bb1f"
   },
   "outputs": [
    {
     "data": {
      "text/plain": [
       "0    6017\n",
       "1    4636\n",
       "Name: target, dtype: int64"
      ]
     },
     "execution_count": 14,
     "metadata": {
      "tags": []
     },
     "output_type": "execute_result"
    }
   ],
   "source": [
    "data[\"target\"].value_counts()"
   ]
  },
  {
   "cell_type": "markdown",
   "metadata": {
    "id": "hLQVP48qAmzm"
   },
   "source": [
    "Se observa que la variable \"target\" toma un mayor número de ceros que de unos. Posteriormente veremos como afecta a los modelos."
   ]
  },
  {
   "cell_type": "markdown",
   "metadata": {
    "id": "pWnnodilAmzn"
   },
   "source": [
    "Datos estadísticos básicos de las variables."
   ]
  },
  {
   "cell_type": "code",
   "execution_count": 15,
   "metadata": {
    "colab": {
     "base_uri": "https://localhost:8080/",
     "height": 297
    },
    "executionInfo": {
     "elapsed": 2805,
     "status": "ok",
     "timestamp": 1612444921747,
     "user": {
      "displayName": "INÉS HERNÁNDEZ SÁNCHEZ",
      "photoUrl": "",
      "userId": "05427300555485243097"
     },
     "user_tz": -60
    },
    "id": "gPis8kApAmzo",
    "outputId": "ce1a9355-f4b2-40ed-a64b-f053170bea08"
   },
   "outputs": [
    {
     "data": {
      "text/html": [
       "<div>\n",
       "<style scoped>\n",
       "    .dataframe tbody tr th:only-of-type {\n",
       "        vertical-align: middle;\n",
       "    }\n",
       "\n",
       "    .dataframe tbody tr th {\n",
       "        vertical-align: top;\n",
       "    }\n",
       "\n",
       "    .dataframe thead th {\n",
       "        text-align: right;\n",
       "    }\n",
       "</style>\n",
       "<table border=\"1\" class=\"dataframe\">\n",
       "  <thead>\n",
       "    <tr style=\"text-align: right;\">\n",
       "      <th></th>\n",
       "      <th>age</th>\n",
       "      <th>duration</th>\n",
       "      <th>campaign</th>\n",
       "      <th>pdays</th>\n",
       "      <th>previous</th>\n",
       "      <th>empvarrate</th>\n",
       "      <th>conspriceidx</th>\n",
       "      <th>consconfidx</th>\n",
       "      <th>euribor3m</th>\n",
       "      <th>nremployed</th>\n",
       "      <th>target</th>\n",
       "    </tr>\n",
       "  </thead>\n",
       "  <tbody>\n",
       "    <tr>\n",
       "      <th>count</th>\n",
       "      <td>10653.000000</td>\n",
       "      <td>10653.000000</td>\n",
       "      <td>10653.000000</td>\n",
       "      <td>10653.000000</td>\n",
       "      <td>10653.000000</td>\n",
       "      <td>10653.000000</td>\n",
       "      <td>10653.000000</td>\n",
       "      <td>10653.000000</td>\n",
       "      <td>10653.000000</td>\n",
       "      <td>10653.000000</td>\n",
       "      <td>10653.000000</td>\n",
       "    </tr>\n",
       "    <tr>\n",
       "      <th>mean</th>\n",
       "      <td>40.865296</td>\n",
       "      <td>359.675209</td>\n",
       "      <td>2.232798</td>\n",
       "      <td>901.113771</td>\n",
       "      <td>0.331174</td>\n",
       "      <td>-0.638684</td>\n",
       "      <td>93.301371</td>\n",
       "      <td>-41.122529</td>\n",
       "      <td>2.993349</td>\n",
       "      <td>5141.327833</td>\n",
       "      <td>0.435183</td>\n",
       "    </tr>\n",
       "    <tr>\n",
       "      <th>std</th>\n",
       "      <td>11.434509</td>\n",
       "      <td>354.932905</td>\n",
       "      <td>2.108551</td>\n",
       "      <td>296.042577</td>\n",
       "      <td>0.684687</td>\n",
       "      <td>1.423009</td>\n",
       "      <td>0.489331</td>\n",
       "      <td>5.052114</td>\n",
       "      <td>1.683271</td>\n",
       "      <td>81.432551</td>\n",
       "      <td>0.495804</td>\n",
       "    </tr>\n",
       "    <tr>\n",
       "      <th>min</th>\n",
       "      <td>17.000000</td>\n",
       "      <td>0.000000</td>\n",
       "      <td>1.000000</td>\n",
       "      <td>0.000000</td>\n",
       "      <td>0.000000</td>\n",
       "      <td>-3.400000</td>\n",
       "      <td>92.201000</td>\n",
       "      <td>-50.800000</td>\n",
       "      <td>0.634000</td>\n",
       "      <td>4963.600000</td>\n",
       "      <td>0.000000</td>\n",
       "    </tr>\n",
       "    <tr>\n",
       "      <th>25%</th>\n",
       "      <td>32.000000</td>\n",
       "      <td>122.000000</td>\n",
       "      <td>1.000000</td>\n",
       "      <td>999.000000</td>\n",
       "      <td>0.000000</td>\n",
       "      <td>-1.800000</td>\n",
       "      <td>93.075000</td>\n",
       "      <td>-42.700000</td>\n",
       "      <td>1.291000</td>\n",
       "      <td>5099.100000</td>\n",
       "      <td>0.000000</td>\n",
       "    </tr>\n",
       "    <tr>\n",
       "      <th>50%</th>\n",
       "      <td>38.000000</td>\n",
       "      <td>239.000000</td>\n",
       "      <td>2.000000</td>\n",
       "      <td>999.000000</td>\n",
       "      <td>0.000000</td>\n",
       "      <td>-0.100000</td>\n",
       "      <td>93.200000</td>\n",
       "      <td>-42.000000</td>\n",
       "      <td>4.021000</td>\n",
       "      <td>5195.800000</td>\n",
       "      <td>0.000000</td>\n",
       "    </tr>\n",
       "    <tr>\n",
       "      <th>75%</th>\n",
       "      <td>48.000000</td>\n",
       "      <td>483.000000</td>\n",
       "      <td>3.000000</td>\n",
       "      <td>999.000000</td>\n",
       "      <td>0.000000</td>\n",
       "      <td>-0.100000</td>\n",
       "      <td>93.444000</td>\n",
       "      <td>-36.400000</td>\n",
       "      <td>4.191000</td>\n",
       "      <td>5195.800000</td>\n",
       "      <td>1.000000</td>\n",
       "    </tr>\n",
       "    <tr>\n",
       "      <th>max</th>\n",
       "      <td>98.000000</td>\n",
       "      <td>4918.000000</td>\n",
       "      <td>27.000000</td>\n",
       "      <td>999.000000</td>\n",
       "      <td>7.000000</td>\n",
       "      <td>1.400000</td>\n",
       "      <td>94.767000</td>\n",
       "      <td>-26.900000</td>\n",
       "      <td>5.045000</td>\n",
       "      <td>5228.100000</td>\n",
       "      <td>1.000000</td>\n",
       "    </tr>\n",
       "  </tbody>\n",
       "</table>\n",
       "</div>"
      ],
      "text/plain": [
       "                age      duration  ...    nremployed        target\n",
       "count  10653.000000  10653.000000  ...  10653.000000  10653.000000\n",
       "mean      40.865296    359.675209  ...   5141.327833      0.435183\n",
       "std       11.434509    354.932905  ...     81.432551      0.495804\n",
       "min       17.000000      0.000000  ...   4963.600000      0.000000\n",
       "25%       32.000000    122.000000  ...   5099.100000      0.000000\n",
       "50%       38.000000    239.000000  ...   5195.800000      0.000000\n",
       "75%       48.000000    483.000000  ...   5195.800000      1.000000\n",
       "max       98.000000   4918.000000  ...   5228.100000      1.000000\n",
       "\n",
       "[8 rows x 11 columns]"
      ]
     },
     "execution_count": 15,
     "metadata": {
      "tags": []
     },
     "output_type": "execute_result"
    }
   ],
   "source": [
    "data.describe()"
   ]
  },
  {
   "cell_type": "markdown",
   "metadata": {
    "id": "-R2q21hvAmzo"
   },
   "source": [
    "Matriz de correlaciones mediante el coeficiente de Pearson de las variables númericas."
   ]
  },
  {
   "cell_type": "code",
   "execution_count": 16,
   "metadata": {
    "colab": {
     "base_uri": "https://localhost:8080/",
     "height": 704
    },
    "executionInfo": {
     "elapsed": 3977,
     "status": "ok",
     "timestamp": 1612444922954,
     "user": {
      "displayName": "INÉS HERNÁNDEZ SÁNCHEZ",
      "photoUrl": "",
      "userId": "05427300555485243097"
     },
     "user_tz": -60
    },
    "id": "GSmL52mmAmzp",
    "outputId": "358a41b4-e313-4831-82b7-47f1f968d373"
   },
   "outputs": [
    {
     "data": {
      "text/plain": [
       "Text(0.5, 1.05, 'Pearson correlation of Features')"
      ]
     },
     "execution_count": 16,
     "metadata": {
      "tags": []
     },
     "output_type": "execute_result"
    },
    {
     "data": {
      "image/png": "[encoded data removed]",
      "text/plain": [
       "<Figure size 720x864 with 2 Axes>"
      ]
     },
     "metadata": {
      "needs_background": "light",
      "tags": []
     },
     "output_type": "display_data"
    }
   ],
   "source": [
    "%matplotlib inline\n",
    "corr = data.corr()\n",
    "\n",
    "f, ax = plt.subplots(figsize=(10,12))\n",
    "\n",
    "cmap = sns.diverging_palette(220, 10, as_cmap=True)\n",
    "\n",
    "_ = sns.heatmap(corr, cmap=\"YlGn\", square=True, ax=ax, annot=True, linewidth=0.1)\n",
    "\n",
    "plt.title(\"Pearson correlation of Features\", y=1.05, size=15)"
   ]
  },
  {
   "cell_type": "markdown",
   "metadata": {
    "id": "6NKJ25u2Amzq"
   },
   "source": [
    "En verde oscuro se representa que existe una correlación alta entre variables como es el ejemplo de nremployed con euribor3m, empvarrate con nremployes, empreverrate con euribor3m. Las que aparecen por debajo de cero en un color claro presentan una correlación muy baja."
   ]
  },
  {
   "cell_type": "markdown",
   "metadata": {
    "id": "rBo4AAZ2Amzq"
   },
   "source": [
    "A continuación queremos comprobar la existencia o no de missings en el dataset."
   ]
  },
  {
   "cell_type": "code",
   "execution_count": 17,
   "metadata": {
    "colab": {
     "base_uri": "https://localhost:8080/"
    },
    "executionInfo": {
     "elapsed": 3944,
     "status": "ok",
     "timestamp": 1612444922956,
     "user": {
      "displayName": "INÉS HERNÁNDEZ SÁNCHEZ",
      "photoUrl": "",
      "userId": "05427300555485243097"
     },
     "user_tz": -60
    },
    "id": "Gr5yIemcAmzq",
    "outputId": "3c7d4961-a895-4053-90f2-b18c9fd8a995"
   },
   "outputs": [
    {
     "data": {
      "text/plain": [
       "age             10653\n",
       "job             10653\n",
       "marital         10653\n",
       "education       10653\n",
       "default         10653\n",
       "housing         10653\n",
       "loan            10653\n",
       "contact         10653\n",
       "month           10653\n",
       "dayofweek       10653\n",
       "duration        10653\n",
       "campaign        10653\n",
       "pdays           10653\n",
       "previous        10653\n",
       "poutcome        10653\n",
       "empvarrate      10653\n",
       "conspriceidx    10653\n",
       "consconfidx     10653\n",
       "euribor3m       10653\n",
       "nremployed      10653\n",
       "target          10653\n",
       "dtype: int64"
      ]
     },
     "execution_count": 17,
     "metadata": {
      "tags": []
     },
     "output_type": "execute_result"
    }
   ],
   "source": [
    "data.notnull().sum()"
   ]
  },
  {
   "cell_type": "code",
   "execution_count": 18,
   "metadata": {
    "colab": {
     "base_uri": "https://localhost:8080/"
    },
    "executionInfo": {
     "elapsed": 3912,
     "status": "ok",
     "timestamp": 1612444922958,
     "user": {
      "displayName": "INÉS HERNÁNDEZ SÁNCHEZ",
      "photoUrl": "",
      "userId": "05427300555485243097"
     },
     "user_tz": -60
    },
    "id": "SDw4QvIbAmzs",
    "outputId": "678f25d4-d807-44bb-839e-88a836f931b7"
   },
   "outputs": [
    {
     "data": {
      "text/plain": [
       "age             0\n",
       "job             0\n",
       "marital         0\n",
       "education       0\n",
       "default         0\n",
       "housing         0\n",
       "loan            0\n",
       "contact         0\n",
       "month           0\n",
       "dayofweek       0\n",
       "duration        0\n",
       "campaign        0\n",
       "pdays           0\n",
       "previous        0\n",
       "poutcome        0\n",
       "empvarrate      0\n",
       "conspriceidx    0\n",
       "consconfidx     0\n",
       "euribor3m       0\n",
       "nremployed      0\n",
       "target          0\n",
       "dtype: int64"
      ]
     },
     "execution_count": 18,
     "metadata": {
      "tags": []
     },
     "output_type": "execute_result"
    }
   ],
   "source": [
    "data.isnull().sum()"
   ]
  },
  {
   "cell_type": "markdown",
   "metadata": {
    "id": "Jw-IrULlAmzs"
   },
   "source": [
    "Con las sentencias anteriores se comprueba que no existen missings(filas y columnas sin datos). Los missings de este dataset se presentan con forma \"unknown\" en las variables job, marital,education,housing y loan y en la variable poutcome como \"nonexisten\". Se visualiza a continuación:"
   ]
  },
  {
   "cell_type": "code",
   "execution_count": 19,
   "metadata": {
    "colab": {
     "base_uri": "https://localhost:8080/"
    },
    "executionInfo": {
     "elapsed": 3884,
     "status": "ok",
     "timestamp": 1612444922959,
     "user": {
      "displayName": "INÉS HERNÁNDEZ SÁNCHEZ",
      "photoUrl": "",
      "userId": "05427300555485243097"
     },
     "user_tz": -60
    },
    "id": "ZAdhU8tOAmzt",
    "outputId": "c7e6e2ea-79e3-48d1-cd9d-fc22b847a05e"
   },
   "outputs": [
    {
     "name": "stdout",
     "output_type": "stream",
     "text": [
      "job            64\n",
      "marital        23\n",
      "education     432\n",
      "housing       229\n",
      "loan          229\n",
      "default      1274\n",
      "dtype: int64\n"
     ]
    }
   ],
   "source": [
    "num_missing=(data[['job','marital','education','housing','loan','default']]=='unknown').sum()\n",
    "num_missing_poutcome=(data[['poutcome']]=='nonexistent').sum()\n",
    "print(num_missing)\n"
   ]
  },
  {
   "cell_type": "code",
   "execution_count": 20,
   "metadata": {
    "colab": {
     "base_uri": "https://localhost:8080/"
    },
    "executionInfo": {
     "elapsed": 3856,
     "status": "ok",
     "timestamp": 1612444922960,
     "user": {
      "displayName": "INÉS HERNÁNDEZ SÁNCHEZ",
      "photoUrl": "",
      "userId": "05427300555485243097"
     },
     "user_tz": -60
    },
    "id": "6y-RZcx4Amzu",
    "outputId": "92626a20-56a8-401b-9296-3545772df62f"
   },
   "outputs": [
    {
     "name": "stdout",
     "output_type": "stream",
     "text": [
      "poutcome    8032\n",
      "dtype: int64\n"
     ]
    }
   ],
   "source": [
    "print(num_missing_poutcome)"
   ]
  },
  {
   "cell_type": "markdown",
   "metadata": {
    "id": "yTEn5zChAmzv"
   },
   "source": [
    "Se han contabilizado el numero de missings en forma de \"unknown\" de estas variables y de \"nonexistent\" en las variables mencionadas anterioremente. Se observa que las variables education, housing,loan y poutcome presentan un valor alto de missings.Mas tarde consideraremos elimanar dichas variables y en las variables que dejamos para seguir trabajando con ellas las codificaremos categoricamente o mediante dummies, dependiendo del modelo que tratemos."
   ]
  },
  {
   "cell_type": "markdown",
   "metadata": {
    "id": "GHNxDUiUAmzw"
   },
   "source": [
    "Para seguir obteniendo información del dataset con el que estamos trabajando, visualizamos los datos aplicando la media de cada una de las variables y agrupando por la variable target."
   ]
  },
  {
   "cell_type": "code",
   "execution_count": 21,
   "metadata": {
    "colab": {
     "base_uri": "https://localhost:8080/",
     "height": 142
    },
    "executionInfo": {
     "elapsed": 3821,
     "status": "ok",
     "timestamp": 1612444922962,
     "user": {
      "displayName": "INÉS HERNÁNDEZ SÁNCHEZ",
      "photoUrl": "",
      "userId": "05427300555485243097"
     },
     "user_tz": -60
    },
    "id": "ayFcvRSgAmzw",
    "outputId": "8d92518d-209b-47fd-d342-1666b6544a62"
   },
   "outputs": [
    {
     "data": {
      "text/html": [
       "<div>\n",
       "<style scoped>\n",
       "    .dataframe tbody tr th:only-of-type {\n",
       "        vertical-align: middle;\n",
       "    }\n",
       "\n",
       "    .dataframe tbody tr th {\n",
       "        vertical-align: top;\n",
       "    }\n",
       "\n",
       "    .dataframe thead th {\n",
       "        text-align: right;\n",
       "    }\n",
       "</style>\n",
       "<table border=\"1\" class=\"dataframe\">\n",
       "  <thead>\n",
       "    <tr style=\"text-align: right;\">\n",
       "      <th></th>\n",
       "      <th>age</th>\n",
       "      <th>duration</th>\n",
       "      <th>campaign</th>\n",
       "      <th>pdays</th>\n",
       "      <th>previous</th>\n",
       "      <th>empvarrate</th>\n",
       "      <th>conspriceidx</th>\n",
       "      <th>consconfidx</th>\n",
       "      <th>euribor3m</th>\n",
       "      <th>nremployed</th>\n",
       "    </tr>\n",
       "    <tr>\n",
       "      <th>target</th>\n",
       "      <th></th>\n",
       "      <th></th>\n",
       "      <th></th>\n",
       "      <th></th>\n",
       "      <th></th>\n",
       "      <th></th>\n",
       "      <th></th>\n",
       "      <th></th>\n",
       "      <th></th>\n",
       "      <th></th>\n",
       "    </tr>\n",
       "  </thead>\n",
       "  <tbody>\n",
       "    <tr>\n",
       "      <th>0</th>\n",
       "      <td>40.827655</td>\n",
       "      <td>210.733422</td>\n",
       "      <td>2.372112</td>\n",
       "      <td>985.294333</td>\n",
       "      <td>0.206415</td>\n",
       "      <td>-0.179491</td>\n",
       "      <td>93.260773</td>\n",
       "      <td>-42.147565</td>\n",
       "      <td>3.665024</td>\n",
       "      <td>5176.984128</td>\n",
       "    </tr>\n",
       "    <tr>\n",
       "      <th>1</th>\n",
       "      <td>40.914150</td>\n",
       "      <td>552.984685</td>\n",
       "      <td>2.051984</td>\n",
       "      <td>791.856989</td>\n",
       "      <td>0.493097</td>\n",
       "      <td>-1.234664</td>\n",
       "      <td>93.354061</td>\n",
       "      <td>-39.792148</td>\n",
       "      <td>2.121591</td>\n",
       "      <td>5095.050022</td>\n",
       "    </tr>\n",
       "  </tbody>\n",
       "</table>\n",
       "</div>"
      ],
      "text/plain": [
       "              age    duration  campaign  ...  consconfidx  euribor3m   nremployed\n",
       "target                                   ...                                     \n",
       "0       40.827655  210.733422  2.372112  ...   -42.147565   3.665024  5176.984128\n",
       "1       40.914150  552.984685  2.051984  ...   -39.792148   2.121591  5095.050022\n",
       "\n",
       "[2 rows x 10 columns]"
      ]
     },
     "execution_count": 21,
     "metadata": {
      "tags": []
     },
     "output_type": "execute_result"
    }
   ],
   "source": [
    "data.groupby(\"target\").mean()"
   ]
  },
  {
   "cell_type": "markdown",
   "metadata": {
    "id": "APAsHrNxAmzy"
   },
   "source": [
    "VISUALIZACIÓN DE LOS DATOS"
   ]
  },
  {
   "cell_type": "markdown",
   "metadata": {
    "id": "3KLOpP2JAmzz"
   },
   "source": [
    "Visualización del histograma y cuantos 1's y 0's tiene la variable target."
   ]
  },
  {
   "cell_type": "code",
   "execution_count": 22,
   "metadata": {
    "colab": {
     "base_uri": "https://localhost:8080/",
     "height": 347
    },
    "executionInfo": {
     "elapsed": 3789,
     "status": "ok",
     "timestamp": 1612444922964,
     "user": {
      "displayName": "INÉS HERNÁNDEZ SÁNCHEZ",
      "photoUrl": "",
      "userId": "05427300555485243097"
     },
     "user_tz": -60
    },
    "id": "uNOH76VpAmzz",
    "outputId": "3c4f58e1-ce42-4578-86e8-2a0e4f9c719a"
   },
   "outputs": [
    {
     "name": "stdout",
     "output_type": "stream",
     "text": [
      "0    6017\n",
      "1    4636\n",
      "Name: target, dtype: int64\n"
     ]
    },
    {
     "data": {
      "text/plain": [
       "<matplotlib.axes._subplots.AxesSubplot at 0x7f42bf227160>"
      ]
     },
     "execution_count": 22,
     "metadata": {
      "tags": []
     },
     "output_type": "execute_result"
    },
    {
     "data": {
      "image/png": "[encoded data removed]",
      "text/plain": [
       "<Figure size 432x288 with 1 Axes>"
      ]
     },
     "metadata": {
      "needs_background": "light",
      "tags": []
     },
     "output_type": "display_data"
    }
   ],
   "source": [
    "print(data.target.value_counts())\n",
    "sns.countplot(x='target', data=data)"
   ]
  },
  {
   "cell_type": "markdown",
   "metadata": {
    "id": "UyvqjJK5Amzz"
   },
   "source": [
    "Visualización de los histogramas de cada una de las variables categóricas y cuantos atributos tiene una variable."
   ]
  },
  {
   "cell_type": "code",
   "execution_count": 23,
   "metadata": {
    "colab": {
     "base_uri": "https://localhost:8080/",
     "height": 517
    },
    "executionInfo": {
     "elapsed": 3747,
     "status": "ok",
     "timestamp": 1612444922965,
     "user": {
      "displayName": "INÉS HERNÁNDEZ SÁNCHEZ",
      "photoUrl": "",
      "userId": "05427300555485243097"
     },
     "user_tz": -60
    },
    "id": "XdLboO2JAmz0",
    "outputId": "bb1a2ee5-c0b1-4270-a602-06156564243d"
   },
   "outputs": [
    {
     "name": "stdout",
     "output_type": "stream",
     "text": [
      "admin.           2963\n",
      "technician       1826\n",
      "blue-collar      1617\n",
      "management        998\n",
      "services          827\n",
      "retired           609\n",
      "entrepreneur      435\n",
      "self-employed     409\n",
      "student           346\n",
      "unemployed        336\n",
      "housemaid         223\n",
      "unknown            64\n",
      "Name: job, dtype: int64\n"
     ]
    },
    {
     "data": {
      "text/plain": [
       "<matplotlib.axes._subplots.AxesSubplot at 0x7f42b4ae3550>"
      ]
     },
     "execution_count": 23,
     "metadata": {
      "tags": []
     },
     "output_type": "execute_result"
    },
    {
     "data": {
      "image/png": "[encoded data removed]",
      "text/plain": [
       "<Figure size 432x288 with 1 Axes>"
      ]
     },
     "metadata": {
      "needs_background": "light",
      "tags": []
     },
     "output_type": "display_data"
    }
   ],
   "source": [
    "print(data.job.value_counts())\n",
    "sns.countplot(y='job', data=data)"
   ]
  },
  {
   "cell_type": "code",
   "execution_count": 24,
   "metadata": {
    "colab": {
     "base_uri": "https://localhost:8080/",
     "height": 364
    },
    "executionInfo": {
     "elapsed": 3974,
     "status": "ok",
     "timestamp": 1612444923231,
     "user": {
      "displayName": "INÉS HERNÁNDEZ SÁNCHEZ",
      "photoUrl": "",
      "userId": "05427300555485243097"
     },
     "user_tz": -60
    },
    "id": "wLCfOrvVAmz2",
    "outputId": "3de92172-5b28-4f3b-9f9f-7007ad08dade"
   },
   "outputs": [
    {
     "name": "stdout",
     "output_type": "stream",
     "text": [
      "no         9378\n",
      "unknown    1274\n",
      "yes           1\n",
      "Name: default, dtype: int64\n"
     ]
    },
    {
     "data": {
      "text/plain": [
       "<matplotlib.axes._subplots.AxesSubplot at 0x7f42b49ebeb8>"
      ]
     },
     "execution_count": 24,
     "metadata": {
      "tags": []
     },
     "output_type": "execute_result"
    },
    {
     "data": {
      "image/png": "[encoded data removed]",
      "text/plain": [
       "<Figure size 432x288 with 1 Axes>"
      ]
     },
     "metadata": {
      "needs_background": "light",
      "tags": []
     },
     "output_type": "display_data"
    }
   ],
   "source": [
    "print(data.default.value_counts())\n",
    "sns.countplot(y='default', data=data)"
   ]
  },
  {
   "cell_type": "code",
   "execution_count": 25,
   "metadata": {
    "colab": {
     "base_uri": "https://localhost:8080/",
     "height": 381
    },
    "executionInfo": {
     "elapsed": 3943,
     "status": "ok",
     "timestamp": 1612444923233,
     "user": {
      "displayName": "INÉS HERNÁNDEZ SÁNCHEZ",
      "photoUrl": "",
      "userId": "05427300555485243097"
     },
     "user_tz": -60
    },
    "id": "PzLXcXRVAmz2",
    "outputId": "6c8dad33-edab-492d-a4e1-6829c4467b92"
   },
   "outputs": [
    {
     "name": "stdout",
     "output_type": "stream",
     "text": [
      "married     6287\n",
      "single      3098\n",
      "divorced    1245\n",
      "unknown       23\n",
      "Name: marital, dtype: int64\n"
     ]
    },
    {
     "data": {
      "text/plain": [
       "<matplotlib.axes._subplots.AxesSubplot at 0x7f42b679e160>"
      ]
     },
     "execution_count": 25,
     "metadata": {
      "tags": []
     },
     "output_type": "execute_result"
    },
    {
     "data": {
      "image/png": "[encoded data removed]",
      "text/plain": [
       "<Figure size 432x288 with 1 Axes>"
      ]
     },
     "metadata": {
      "needs_background": "light",
      "tags": []
     },
     "output_type": "display_data"
    }
   ],
   "source": [
    "print(data.marital.value_counts())\n",
    "sns.countplot(y='marital', data=data)"
   ]
  },
  {
   "cell_type": "code",
   "execution_count": 26,
   "metadata": {
    "colab": {
     "base_uri": "https://localhost:8080/",
     "height": 415
    },
    "executionInfo": {
     "elapsed": 4242,
     "status": "ok",
     "timestamp": 1612444923564,
     "user": {
      "displayName": "INÉS HERNÁNDEZ SÁNCHEZ",
      "photoUrl": "",
      "userId": "05427300555485243097"
     },
     "user_tz": -60
    },
    "id": "NcqI8Z_JAmz2",
    "outputId": "89c5247b-06db-49a3-9404-1886fd95e004"
   },
   "outputs": [
    {
     "name": "stdout",
     "output_type": "stream",
     "text": [
      "University Degree      3923\n",
      "Basic                  2577\n",
      "High School            2276\n",
      "Professional Course    1438\n",
      "unknown                 432\n",
      "Illiterate                7\n",
      "Name: education, dtype: int64\n"
     ]
    },
    {
     "data": {
      "text/plain": [
       "<matplotlib.axes._subplots.AxesSubplot at 0x7f42b679e048>"
      ]
     },
     "execution_count": 26,
     "metadata": {
      "tags": []
     },
     "output_type": "execute_result"
    },
    {
     "data": {
      "image/png": "[encoded data removed]",
      "text/plain": [
       "<Figure size 432x288 with 1 Axes>"
      ]
     },
     "metadata": {
      "needs_background": "light",
      "tags": []
     },
     "output_type": "display_data"
    }
   ],
   "source": [
    "print(data.education.value_counts())\n",
    "sns.countplot(y='education', data=data)"
   ]
  },
  {
   "cell_type": "code",
   "execution_count": 27,
   "metadata": {
    "colab": {
     "base_uri": "https://localhost:8080/",
     "height": 364
    },
    "executionInfo": {
     "elapsed": 4201,
     "status": "ok",
     "timestamp": 1612444923566,
     "user": {
      "displayName": "INÉS HERNÁNDEZ SÁNCHEZ",
      "photoUrl": "",
      "userId": "05427300555485243097"
     },
     "user_tz": -60
    },
    "id": "RvLVuYp4Amz3",
    "outputId": "05f7ab18-b06f-47f1-d138-d84d6e19213b"
   },
   "outputs": [
    {
     "name": "stdout",
     "output_type": "stream",
     "text": [
      "yes        5974\n",
      "no         4450\n",
      "unknown     229\n",
      "Name: housing, dtype: int64\n"
     ]
    },
    {
     "data": {
      "text/plain": [
       "<matplotlib.axes._subplots.AxesSubplot at 0x7f42b48ee080>"
      ]
     },
     "execution_count": 27,
     "metadata": {
      "tags": []
     },
     "output_type": "execute_result"
    },
    {
     "data": {
      "image/png": "[encoded data removed]",
      "text/plain": [
       "<Figure size 432x288 with 1 Axes>"
      ]
     },
     "metadata": {
      "needs_background": "light",
      "tags": []
     },
     "output_type": "display_data"
    }
   ],
   "source": [
    "print(data.housing.value_counts())\n",
    "sns.countplot(x='housing', data=data)"
   ]
  },
  {
   "cell_type": "code",
   "execution_count": 28,
   "metadata": {
    "colab": {
     "base_uri": "https://localhost:8080/",
     "height": 364
    },
    "executionInfo": {
     "elapsed": 4614,
     "status": "ok",
     "timestamp": 1612444924022,
     "user": {
      "displayName": "INÉS HERNÁNDEZ SÁNCHEZ",
      "photoUrl": "",
      "userId": "05427300555485243097"
     },
     "user_tz": -60
    },
    "id": "OIUYRVQ3Amz4",
    "outputId": "bce9627d-728d-4887-c3c2-1249134b0b52"
   },
   "outputs": [
    {
     "name": "stdout",
     "output_type": "stream",
     "text": [
      "no         8859\n",
      "yes        1565\n",
      "unknown     229\n",
      "Name: loan, dtype: int64\n"
     ]
    },
    {
     "data": {
      "text/plain": [
       "<matplotlib.axes._subplots.AxesSubplot at 0x7f42b48c7470>"
      ]
     },
     "execution_count": 28,
     "metadata": {
      "tags": []
     },
     "output_type": "execute_result"
    },
    {
     "data": {
      "image/png": "[encoded data removed]",
      "text/plain": [
       "<Figure size 432x288 with 1 Axes>"
      ]
     },
     "metadata": {
      "needs_background": "light",
      "tags": []
     },
     "output_type": "display_data"
    }
   ],
   "source": [
    "print(data.loan.value_counts())\n",
    "sns.countplot(x='loan', data=data)"
   ]
  },
  {
   "cell_type": "code",
   "execution_count": 29,
   "metadata": {
    "colab": {
     "base_uri": "https://localhost:8080/",
     "height": 364
    },
    "executionInfo": {
     "elapsed": 4581,
     "status": "ok",
     "timestamp": 1612444924024,
     "user": {
      "displayName": "INÉS HERNÁNDEZ SÁNCHEZ",
      "photoUrl": "",
      "userId": "05427300555485243097"
     },
     "user_tz": -60
    },
    "id": "kfeGpfdRAmz4",
    "outputId": "9b711a27-f434-4207-f97e-4a237747c556"
   },
   "outputs": [
    {
     "name": "stdout",
     "output_type": "stream",
     "text": [
      "nonexistent    8032\n",
      "failure        1651\n",
      "success         970\n",
      "Name: poutcome, dtype: int64\n"
     ]
    },
    {
     "data": {
      "text/plain": [
       "<matplotlib.axes._subplots.AxesSubplot at 0x7f42b48a2ba8>"
      ]
     },
     "execution_count": 29,
     "metadata": {
      "tags": []
     },
     "output_type": "execute_result"
    },
    {
     "data": {
      "image/png": "[encoded data removed]",
      "text/plain": [
       "<Figure size 432x288 with 1 Axes>"
      ]
     },
     "metadata": {
      "needs_background": "light",
      "tags": []
     },
     "output_type": "display_data"
    }
   ],
   "source": [
    "print(data.poutcome.value_counts())\n",
    "sns.countplot(x='poutcome', data=data)"
   ]
  },
  {
   "cell_type": "code",
   "execution_count": 30,
   "metadata": {
    "colab": {
     "base_uri": "https://localhost:8080/",
     "height": 319
    },
    "executionInfo": {
     "elapsed": 4549,
     "status": "ok",
     "timestamp": 1612444924025,
     "user": {
      "displayName": "INÉS HERNÁNDEZ SÁNCHEZ",
      "photoUrl": "",
      "userId": "05427300555485243097"
     },
     "user_tz": -60
    },
    "id": "UsJL1yPqmAuq",
    "outputId": "711c943d-b1be-4bdb-b0de-e7d47eeaa21b"
   },
   "outputs": [
    {
     "data": {
      "image/png": "[encoded data removed]",
      "text/plain": [
       "<Figure size 360x360 with 1 Axes>"
      ]
     },
     "metadata": {
      "tags": []
     },
     "output_type": "display_data"
    }
   ],
   "source": [
    "contact = pd.crosstab(index=data[\"contact\"],columns='qwe')\n",
    "plot = contact.plot.pie(y='qwe', figsize=(5, 5), label = '')\n",
    "plt.legend(bbox_to_anchor=(1.76,1.025), loc=\"upper right\")\n",
    "plt.title('Contact')\n",
    "plt.show()"
   ]
  },
  {
   "cell_type": "markdown",
   "metadata": {
    "id": "fMiukIi4Amz5"
   },
   "source": [
    "Visualización de los histogramas de cada una de las variables númericas y cuantos atributos tiene una variable."
   ]
  },
  {
   "cell_type": "code",
   "execution_count": 31,
   "metadata": {
    "colab": {
     "base_uri": "https://localhost:8080/",
     "height": 516
    },
    "executionInfo": {
     "elapsed": 4820,
     "status": "ok",
     "timestamp": 1612444924333,
     "user": {
      "displayName": "INÉS HERNÁNDEZ SÁNCHEZ",
      "photoUrl": "",
      "userId": "05427300555485243097"
     },
     "user_tz": -60
    },
    "id": "jsSJtYIhAmz6",
    "outputId": "8370c9ce-af7a-4588-83a8-8b5fb3704863"
   },
   "outputs": [
    {
     "name": "stdout",
     "output_type": "stream",
     "text": [
      "31    541\n",
      "32    502\n",
      "33    477\n",
      "30    461\n",
      "34    428\n",
      "     ... \n",
      "17      2\n",
      "89      2\n",
      "98      2\n",
      "87      1\n",
      "95      1\n",
      "Name: age, Length: 76, dtype: int64\n"
     ]
    },
    {
     "data": {
      "text/plain": [
       "Text(0.5, 1.0, 'Histograma de la edad')"
      ]
     },
     "execution_count": 31,
     "metadata": {
      "tags": []
     },
     "output_type": "execute_result"
    },
    {
     "data": {
      "image/png": "[encoded data removed]",
      "text/plain": [
       "<Figure size 432x288 with 1 Axes>"
      ]
     },
     "metadata": {
      "needs_background": "light",
      "tags": []
     },
     "output_type": "display_data"
    }
   ],
   "source": [
    "print(data.age.value_counts())\n",
    "plt.hist(data[\"age\"]) \n",
    "plt.xlabel(\"Edad\")\n",
    "plt.ylabel(\"Frecuencia\")\n",
    "plt.title(\"Histograma de la edad\")"
   ]
  },
  {
   "cell_type": "code",
   "execution_count": 32,
   "metadata": {
    "colab": {
     "base_uri": "https://localhost:8080/",
     "height": 754
    },
    "executionInfo": {
     "elapsed": 4792,
     "status": "ok",
     "timestamp": 1612444924335,
     "user": {
      "displayName": "INÉS HERNÁNDEZ SÁNCHEZ",
      "photoUrl": "",
      "userId": "05427300555485243097"
     },
     "user_tz": -60
    },
    "id": "OWENqViwAmz7",
    "outputId": "6fbb4299-af5b-45b0-f8b3-c3027bd9875d"
   },
   "outputs": [
    {
     "name": "stdout",
     "output_type": "stream",
     "text": [
      "1     5149\n",
      "2     2783\n",
      "3     1187\n",
      "4      576\n",
      "5      312\n",
      "6      196\n",
      "7      125\n",
      "8       66\n",
      "9       66\n",
      "10      52\n",
      "11      45\n",
      "13      21\n",
      "12      17\n",
      "14      15\n",
      "17      14\n",
      "15       9\n",
      "18       5\n",
      "19       3\n",
      "16       3\n",
      "23       2\n",
      "21       2\n",
      "22       2\n",
      "20       1\n",
      "24       1\n",
      "27       1\n",
      "Name: campaign, dtype: int64\n"
     ]
    },
    {
     "data": {
      "text/plain": [
       "Text(0.5, 1.0, 'Histograma de contactos con clientes')"
      ]
     },
     "execution_count": 32,
     "metadata": {
      "tags": []
     },
     "output_type": "execute_result"
    },
    {
     "data": {
      "image/png": "[encoded data removed]",
      "text/plain": [
       "<Figure size 432x288 with 1 Axes>"
      ]
     },
     "metadata": {
      "needs_background": "light",
      "tags": []
     },
     "output_type": "display_data"
    }
   ],
   "source": [
    "print(data.campaign.value_counts())\n",
    "plt.hist(data[\"campaign\"]) \n",
    "plt.xlabel(\"Numero de contactos con el cliente\")\n",
    "plt.ylabel(\"Frecuencia\")\n",
    "plt.title(\"Histograma de contactos con clientes\")"
   ]
  },
  {
   "cell_type": "code",
   "execution_count": 33,
   "metadata": {
    "colab": {
     "base_uri": "https://localhost:8080/",
     "height": 465
    },
    "executionInfo": {
     "elapsed": 5095,
     "status": "ok",
     "timestamp": 1612444924663,
     "user": {
      "displayName": "INÉS HERNÁNDEZ SÁNCHEZ",
      "photoUrl": "",
      "userId": "05427300555485243097"
     },
     "user_tz": -60
    },
    "id": "lrraHNnVAmz9",
    "outputId": "779b7e0e-7ced-4ab3-a5f6-e2984433eca1"
   },
   "outputs": [
    {
     "name": "stdout",
     "output_type": "stream",
     "text": [
      "0    8032\n",
      "1    2007\n",
      "2     407\n",
      "3     145\n",
      "4      44\n",
      "5      13\n",
      "6       4\n",
      "7       1\n",
      "Name: previous, dtype: int64\n"
     ]
    },
    {
     "data": {
      "text/plain": [
       "Text(0.5, 1.0, 'Histograma de contacto clientes')"
      ]
     },
     "execution_count": 33,
     "metadata": {
      "tags": []
     },
     "output_type": "execute_result"
    },
    {
     "data": {
      "image/png": "[encoded data removed]",
      "text/plain": [
       "<Figure size 432x288 with 1 Axes>"
      ]
     },
     "metadata": {
      "needs_background": "light",
      "tags": []
     },
     "output_type": "display_data"
    }
   ],
   "source": [
    "print(data.previous.value_counts())\n",
    "plt.hist(data[\"previous\"]) \n",
    "plt.xlabel(\"Numero de contactos realizados al cliente antes de la campaña\")\n",
    "plt.ylabel(\"Frecuencia\")\n",
    "plt.title(\"Histograma de contacto clientes\")"
   ]
  },
  {
   "cell_type": "code",
   "execution_count": 34,
   "metadata": {
    "colab": {
     "base_uri": "https://localhost:8080/",
     "height": 499
    },
    "executionInfo": {
     "elapsed": 5533,
     "status": "ok",
     "timestamp": 1612444925130,
     "user": {
      "displayName": "INÉS HERNÁNDEZ SÁNCHEZ",
      "photoUrl": "",
      "userId": "05427300555485243097"
     },
     "user_tz": -60
    },
    "id": "O3gViV6VAmz9",
    "outputId": "95060f31-786e-406c-dc81-0cda44aa4b89"
   },
   "outputs": [
    {
     "name": "stdout",
     "output_type": "stream",
     "text": [
      "-0.1    3658\n",
      "-1.8    2694\n",
      " 1.4    2030\n",
      "-2.9     593\n",
      "-1.7     465\n",
      "-3.4     454\n",
      "-1.1     381\n",
      " 1.1     280\n",
      "-3.0      88\n",
      "-0.2      10\n",
      "Name: empvarrate, dtype: int64\n"
     ]
    },
    {
     "data": {
      "text/plain": [
       "Text(0.5, 1.0, 'Histograma de tasa de variacion de empleo')"
      ]
     },
     "execution_count": 34,
     "metadata": {
      "tags": []
     },
     "output_type": "execute_result"
    },
    {
     "data": {
      "image/png": "[encoded data removed]",
      "text/plain": [
       "<Figure size 432x288 with 1 Axes>"
      ]
     },
     "metadata": {
      "needs_background": "light",
      "tags": []
     },
     "output_type": "display_data"
    }
   ],
   "source": [
    "print(data.empvarrate.value_counts())\n",
    "plt.hist(data[\"empvarrate\"]) \n",
    "plt.xlabel(\"tasa de variacion de empleo\")\n",
    "plt.ylabel(\"Frecuencia\")\n",
    "plt.title(\"Histograma de tasa de variacion de empleo\")"
   ]
  },
  {
   "cell_type": "code",
   "execution_count": 35,
   "metadata": {
    "colab": {
     "base_uri": "https://localhost:8080/",
     "height": 771
    },
    "executionInfo": {
     "elapsed": 5505,
     "status": "ok",
     "timestamp": 1612444925132,
     "user": {
      "displayName": "INÉS HERNÁNDEZ SÁNCHEZ",
      "photoUrl": "",
      "userId": "05427300555485243097"
     },
     "user_tz": -60
    },
    "id": "KoLM8g7ZAmz-",
    "outputId": "c71822be-7a46-4803-d30e-f913ba821a82"
   },
   "outputs": [
    {
     "name": "stdout",
     "output_type": "stream",
     "text": [
      "93.200    3591\n",
      "93.075    1519\n",
      "93.444    1329\n",
      "92.893     524\n",
      "93.918     514\n",
      "92.843     282\n",
      "93.994     280\n",
      "92.201     264\n",
      "92.963     264\n",
      "94.465     187\n",
      "92.431     180\n",
      "94.215     176\n",
      "94.055     169\n",
      "92.649     168\n",
      "94.199     150\n",
      "93.369     150\n",
      "94.767     128\n",
      "93.876     122\n",
      "94.027     120\n",
      "92.379     106\n",
      "94.601     103\n",
      "93.749      97\n",
      "92.713      88\n",
      "93.798      67\n",
      "92.469      65\n",
      "92.756      10\n",
      "Name: conspriceidx, dtype: int64\n"
     ]
    },
    {
     "data": {
      "text/plain": [
       "Text(0.5, 1.0, 'Histograma del indice de precios al consumidor')"
      ]
     },
     "execution_count": 35,
     "metadata": {
      "tags": []
     },
     "output_type": "execute_result"
    },
    {
     "data": {
      "image/png": "[encoded data removed]",
      "text/plain": [
       "<Figure size 432x288 with 1 Axes>"
      ]
     },
     "metadata": {
      "needs_background": "light",
      "tags": []
     },
     "output_type": "display_data"
    }
   ],
   "source": [
    "print(data.conspriceidx.value_counts())\n",
    "plt.hist(data[\"conspriceidx\"]) \n",
    "plt.xlabel(\"indice de precios al consumidor\")\n",
    "plt.ylabel(\"Frecuencia\")\n",
    "plt.title(\"Histograma del indice de precios al consumidor\")"
   ]
  },
  {
   "cell_type": "code",
   "execution_count": 36,
   "metadata": {
    "colab": {
     "base_uri": "https://localhost:8080/",
     "height": 771
    },
    "executionInfo": {
     "elapsed": 5937,
     "status": "ok",
     "timestamp": 1612444925598,
     "user": {
      "displayName": "INÉS HERNÁNDEZ SÁNCHEZ",
      "photoUrl": "",
      "userId": "05427300555485243097"
     },
     "user_tz": -60
    },
    "id": "AgkMU3oHAm0A",
    "outputId": "003ccffc-3c3d-4343-f943-d613db80f277"
   },
   "outputs": [
    {
     "name": "stdout",
     "output_type": "stream",
     "text": [
      "-42.0    3591\n",
      "-47.1    1519\n",
      "-36.1    1329\n",
      "-46.2     524\n",
      "-42.7     514\n",
      "-50.0     282\n",
      "-36.4     280\n",
      "-31.4     264\n",
      "-40.8     264\n",
      "-41.8     187\n",
      "-26.9     180\n",
      "-40.3     176\n",
      "-39.8     169\n",
      "-30.1     168\n",
      "-34.8     150\n",
      "-37.5     150\n",
      "-50.8     128\n",
      "-40.0     122\n",
      "-38.3     120\n",
      "-29.8     106\n",
      "-49.5     103\n",
      "-34.6      97\n",
      "-33.0      88\n",
      "-40.4      67\n",
      "-33.6      65\n",
      "-45.9      10\n",
      "Name: consconfidx, dtype: int64\n"
     ]
    },
    {
     "data": {
      "text/plain": [
       "Text(0.5, 1.0, 'Histograma del indice de confianza del consumidor')"
      ]
     },
     "execution_count": 36,
     "metadata": {
      "tags": []
     },
     "output_type": "execute_result"
    },
    {
     "data": {
      "image/png": "[encoded data removed]",
      "text/plain": [
       "<Figure size 432x288 with 1 Axes>"
      ]
     },
     "metadata": {
      "needs_background": "light",
      "tags": []
     },
     "output_type": "display_data"
    }
   ],
   "source": [
    "print(data.consconfidx.value_counts())\n",
    "plt.hist(data[\"consconfidx\"]) \n",
    "plt.xlabel(\"indice de confianza del consumidor\")\n",
    "plt.ylabel(\"Frecuencia\")\n",
    "plt.title(\"Histograma del indice de confianza del consumidor\")"
   ]
  },
  {
   "cell_type": "code",
   "execution_count": 37,
   "metadata": {
    "colab": {
     "base_uri": "https://localhost:8080/",
     "height": 516
    },
    "executionInfo": {
     "elapsed": 5914,
     "status": "ok",
     "timestamp": 1612444925599,
     "user": {
      "displayName": "INÉS HERNÁNDEZ SÁNCHEZ",
      "photoUrl": "",
      "userId": "05427300555485243097"
     },
     "user_tz": -60
    },
    "id": "2ljFUEX9Am0A",
    "outputId": "44cf3c0e-f8bc-424d-ba2a-ef9d06950d55"
   },
   "outputs": [
    {
     "name": "stdout",
     "output_type": "stream",
     "text": [
      "4.076    822\n",
      "4.120    756\n",
      "4.153    689\n",
      "4.021    676\n",
      "4.191    586\n",
      "        ... \n",
      "0.921      1\n",
      "0.944      1\n",
      "3.816      1\n",
      "3.901      1\n",
      "3.669      1\n",
      "Name: euribor3m, Length: 302, dtype: int64\n"
     ]
    },
    {
     "data": {
      "text/plain": [
       "Text(0.5, 1.0, 'Histograma del euribor')"
      ]
     },
     "execution_count": 37,
     "metadata": {
      "tags": []
     },
     "output_type": "execute_result"
    },
    {
     "data": {
      "image/png": "[encoded data removed]",
      "text/plain": [
       "<Figure size 432x288 with 1 Axes>"
      ]
     },
     "metadata": {
      "needs_background": "light",
      "tags": []
     },
     "output_type": "display_data"
    }
   ],
   "source": [
    "print(data.euribor3m.value_counts())\n",
    "plt.hist(data[\"euribor3m\"]) \n",
    "plt.xlabel(\"euribor tasa a 3 meses\")\n",
    "plt.ylabel(\"Frecuencia\")\n",
    "plt.title(\"Histograma del euribor\")"
   ]
  },
  {
   "cell_type": "code",
   "execution_count": 38,
   "metadata": {
    "colab": {
     "base_uri": "https://localhost:8080/",
     "height": 516
    },
    "executionInfo": {
     "elapsed": 6219,
     "status": "ok",
     "timestamp": 1612444925930,
     "user": {
      "displayName": "INÉS HERNÁNDEZ SÁNCHEZ",
      "photoUrl": "",
      "userId": "05427300555485243097"
     },
     "user_tz": -60
    },
    "id": "_KZ4r1KBAm0B",
    "outputId": "1aa33d59-f804-440f-b5c3-55a5f4f92510"
   },
   "outputs": [
    {
     "name": "stdout",
     "output_type": "stream",
     "text": [
      "5195.8    3658\n",
      "5099.1    2325\n",
      "5228.1    2030\n",
      "5076.2     593\n",
      "4991.6     465\n",
      "5017.5     454\n",
      "4963.6     381\n",
      "5008.7     369\n",
      "5191.0     280\n",
      "5023.5      88\n",
      "5176.3      10\n",
      "Name: nremployed, dtype: int64\n"
     ]
    },
    {
     "data": {
      "text/plain": [
       "Text(0.5, 1.0, 'Histograma del numero de empleados')"
      ]
     },
     "execution_count": 38,
     "metadata": {
      "tags": []
     },
     "output_type": "execute_result"
    },
    {
     "data": {
      "image/png": "[encoded data removed]",
      "text/plain": [
       "<Figure size 432x288 with 1 Axes>"
      ]
     },
     "metadata": {
      "needs_background": "light",
      "tags": []
     },
     "output_type": "display_data"
    }
   ],
   "source": [
    "print(data.nremployed.value_counts())\n",
    "plt.hist(data[\"nremployed\"]) \n",
    "plt.xlabel(\"numero de empleados\")\n",
    "plt.ylabel(\"Frecuencia\")\n",
    "plt.title(\"Histograma del numero de empleados\")"
   ]
  },
  {
   "cell_type": "markdown",
   "metadata": {
    "id": "3m_hPSTAAm0C"
   },
   "source": [
    "Visualización cruzada de datos "
   ]
  },
  {
   "cell_type": "code",
   "execution_count": 39,
   "metadata": {
    "colab": {
     "base_uri": "https://localhost:8080/",
     "height": 400
    },
    "executionInfo": {
     "elapsed": 6194,
     "status": "ok",
     "timestamp": 1612444925932,
     "user": {
      "displayName": "INÉS HERNÁNDEZ SÁNCHEZ",
      "photoUrl": "",
      "userId": "05427300555485243097"
     },
     "user_tz": -60
    },
    "id": "NFXyLS34Am0C",
    "outputId": "1c6f4efc-7420-4c10-bce5-fa1cb8856b56"
   },
   "outputs": [
    {
     "data": {
      "text/plain": [
       "Text(0, 0.5, 'Frecuencia de compra del producto')"
      ]
     },
     "execution_count": 39,
     "metadata": {
      "tags": []
     },
     "output_type": "execute_result"
    },
    {
     "data": {
      "image/png": "[encoded data removed]",
      "text/plain": [
       "<Figure size 432x288 with 1 Axes>"
      ]
     },
     "metadata": {
      "needs_background": "light",
      "tags": []
     },
     "output_type": "display_data"
    }
   ],
   "source": [
    "pd.crosstab(data.education, data.target).plot(kind=\"bar\")\n",
    "plt.title(\"Frecuencia de compra en función del nivel de educación\")\n",
    "plt.xlabel(\"Nivel de educación\")\n",
    "plt.ylabel(\"Frecuencia de compra del producto\")"
   ]
  },
  {
   "cell_type": "code",
   "execution_count": 40,
   "metadata": {
    "colab": {
     "base_uri": "https://localhost:8080/",
     "height": 348
    },
    "executionInfo": {
     "elapsed": 6169,
     "status": "ok",
     "timestamp": 1612444925934,
     "user": {
      "displayName": "INÉS HERNÁNDEZ SÁNCHEZ",
      "photoUrl": "",
      "userId": "05427300555485243097"
     },
     "user_tz": -60
    },
    "id": "hoE0Yrv3Am0D",
    "outputId": "df926648-3ee7-4d33-a202-9334f13e6abd"
   },
   "outputs": [
    {
     "data": {
      "text/plain": [
       "Text(0, 0.5, 'Proporción de clientes')"
      ]
     },
     "execution_count": 40,
     "metadata": {
      "tags": []
     },
     "output_type": "execute_result"
    },
    {
     "data": {
      "image/png": "[encoded data removed]",
      "text/plain": [
       "<Figure size 432x288 with 1 Axes>"
      ]
     },
     "metadata": {
      "needs_background": "light",
      "tags": []
     },
     "output_type": "display_data"
    }
   ],
   "source": [
    "table=pd.crosstab(data.marital, data.target)\n",
    "table.div(table.sum(1).astype(float), axis=0).plot(kind=\"bar\", stacked=True)\n",
    "plt.title(\"Diagrama apilado de estado civil contra el nivel de compras\")\n",
    "plt.xlabel(\"Estado civil\")\n",
    "plt.ylabel(\"Proporción de clientes\")"
   ]
  },
  {
   "cell_type": "code",
   "execution_count": 41,
   "metadata": {
    "colab": {
     "base_uri": "https://localhost:8080/",
     "height": 324
    },
    "executionInfo": {
     "elapsed": 6483,
     "status": "ok",
     "timestamp": 1612444926277,
     "user": {
      "displayName": "INÉS HERNÁNDEZ SÁNCHEZ",
      "photoUrl": "",
      "userId": "05427300555485243097"
     },
     "user_tz": -60
    },
    "id": "_uIiFbajAm0E",
    "outputId": "c4fab506-b867-4a1b-cede-74922525b0b6"
   },
   "outputs": [
    {
     "data": {
      "text/plain": [
       "Text(0, 0.5, 'Proporción de clientes')"
      ]
     },
     "execution_count": 41,
     "metadata": {
      "tags": []
     },
     "output_type": "execute_result"
    },
    {
     "data": {
      "image/png": "[encoded data removed]",
      "text/plain": [
       "<Figure size 432x288 with 1 Axes>"
      ]
     },
     "metadata": {
      "needs_background": "light",
      "tags": []
     },
     "output_type": "display_data"
    }
   ],
   "source": [
    "table=pd.crosstab(data.month, data.target)\n",
    "table.div(table.sum(1).astype(float), axis=0).plot(kind=\"bar\", stacked=True)\n",
    "plt.title(\"Diagrama apilado del mes contra el nivel de compras\")\n",
    "plt.xlabel(\"Mes\")\n",
    "plt.ylabel(\"Proporción de clientes\")"
   ]
  },
  {
   "cell_type": "code",
   "execution_count": 42,
   "metadata": {
    "colab": {
     "base_uri": "https://localhost:8080/",
     "height": 324
    },
    "executionInfo": {
     "elapsed": 6881,
     "status": "ok",
     "timestamp": 1612444926709,
     "user": {
      "displayName": "INÉS HERNÁNDEZ SÁNCHEZ",
      "photoUrl": "",
      "userId": "05427300555485243097"
     },
     "user_tz": -60
    },
    "id": "6-eXkXdxAm0E",
    "outputId": "3a3c6b1c-b8e5-458e-a806-6f43055b61ad"
   },
   "outputs": [
    {
     "data": {
      "text/plain": [
       "Text(0, 0.5, 'Proporción de clientes')"
      ]
     },
     "execution_count": 42,
     "metadata": {
      "tags": []
     },
     "output_type": "execute_result"
    },
    {
     "data": {
      "image/png": "[encoded data removed]",
      "text/plain": [
       "<Figure size 432x288 with 1 Axes>"
      ]
     },
     "metadata": {
      "needs_background": "light",
      "tags": []
     },
     "output_type": "display_data"
    }
   ],
   "source": [
    "table=pd.crosstab(data.dayofweek, data.target)\n",
    "table.div(table.sum(1).astype(float), axis=0).plot(kind=\"bar\", stacked=True)\n",
    "plt.title(\"Diagrama apilado del día de la semana contra el nivel de compras\")\n",
    "plt.xlabel(\"Día de la semana\")\n",
    "plt.ylabel(\"Proporción de clientes\")"
   ]
  },
  {
   "cell_type": "code",
   "execution_count": 43,
   "metadata": {
    "colab": {
     "base_uri": "https://localhost:8080/",
     "height": 338
    },
    "executionInfo": {
     "elapsed": 7396,
     "status": "ok",
     "timestamp": 1612444927258,
     "user": {
      "displayName": "INÉS HERNÁNDEZ SÁNCHEZ",
      "photoUrl": "",
      "userId": "05427300555485243097"
     },
     "user_tz": -60
    },
    "id": "SwyHiIxWAm0E",
    "outputId": "b05203fe-d1b5-4ecb-d80e-a8fb7b0edc26"
   },
   "outputs": [
    {
     "data": {
      "text/plain": [
       "Text(0, 0.5, 'Proporción de clientes')"
      ]
     },
     "execution_count": 43,
     "metadata": {
      "tags": []
     },
     "output_type": "execute_result"
    },
    {
     "data": {
      "image/png": "[encoded data removed]",
      "text/plain": [
       "<Figure size 432x288 with 1 Axes>"
      ]
     },
     "metadata": {
      "needs_background": "light",
      "tags": []
     },
     "output_type": "display_data"
    }
   ],
   "source": [
    "table=pd.crosstab(data.nremployed, data.target)\n",
    "table.div(table.sum(1).astype(float), axis=0).plot(kind=\"bar\", stacked=True)\n",
    "plt.title(\"Diagrama apilado del número de empleados contra el nivel de compras\")\n",
    "plt.xlabel(\"Número de empleados\")\n",
    "plt.ylabel(\"Proporción de clientes\")"
   ]
  },
  {
   "cell_type": "code",
   "execution_count": 44,
   "metadata": {
    "colab": {
     "base_uri": "https://localhost:8080/",
     "height": 373
    },
    "executionInfo": {
     "elapsed": 7366,
     "status": "ok",
     "timestamp": 1612444927259,
     "user": {
      "displayName": "INÉS HERNÁNDEZ SÁNCHEZ",
      "photoUrl": "",
      "userId": "05427300555485243097"
     },
     "user_tz": -60
    },
    "id": "20j8mgdkAm0F",
    "outputId": "8c27305d-6ab3-46af-bbad-793921e28107"
   },
   "outputs": [
    {
     "data": {
      "text/plain": [
       "Text(0, 0.5, 'Proporción de clientes')"
      ]
     },
     "execution_count": 44,
     "metadata": {
      "tags": []
     },
     "output_type": "execute_result"
    },
    {
     "data": {
      "image/png": "[encoded data removed]",
      "text/plain": [
       "<Figure size 432x288 with 1 Axes>"
      ]
     },
     "metadata": {
      "needs_background": "light",
      "tags": []
     },
     "output_type": "display_data"
    }
   ],
   "source": [
    "table=pd.crosstab(data.job, data.target)\n",
    "table.div(table.sum(1).astype(float), axis=0).plot(kind=\"bar\", stacked=True)\n",
    "plt.title(\"Diagrama apilado del trabajo contra el nivel de compras\")\n",
    "plt.xlabel(\"Trabajo\")\n",
    "plt.ylabel(\"Proporción de clientes\")"
   ]
  },
  {
   "cell_type": "code",
   "execution_count": 45,
   "metadata": {
    "colab": {
     "base_uri": "https://localhost:8080/",
     "height": 348
    },
    "executionInfo": {
     "elapsed": 7798,
     "status": "ok",
     "timestamp": 1612444927729,
     "user": {
      "displayName": "INÉS HERNÁNDEZ SÁNCHEZ",
      "photoUrl": "",
      "userId": "05427300555485243097"
     },
     "user_tz": -60
    },
    "id": "HEYP-840Am0G",
    "outputId": "e58c0277-89ae-493b-d1a1-c061fb0759c1"
   },
   "outputs": [
    {
     "data": {
      "text/plain": [
       "Text(0, 0.5, 'Proporción de clientes')"
      ]
     },
     "execution_count": 45,
     "metadata": {
      "tags": []
     },
     "output_type": "execute_result"
    },
    {
     "data": {
      "image/png": "[encoded data removed]",
      "text/plain": [
       "<Figure size 432x288 with 1 Axes>"
      ]
     },
     "metadata": {
      "needs_background": "light",
      "tags": []
     },
     "output_type": "display_data"
    }
   ],
   "source": [
    "table=pd.crosstab(data.housing, data.target)\n",
    "table.div(table.sum(1).astype(float), axis=0).plot(kind=\"bar\", stacked=True)\n",
    "plt.title(\"Diagrama apilado de si tiene un prestamo para vivienda contra el nivel de compras\")\n",
    "plt.xlabel(\"Prestamo de vivienda\")\n",
    "plt.ylabel(\"Proporción de clientes\")"
   ]
  },
  {
   "cell_type": "markdown",
   "metadata": {
    "id": "i-_-w0yInEaF"
   },
   "source": [
    "Outliers"
   ]
  },
  {
   "cell_type": "code",
   "execution_count": 46,
   "metadata": {
    "executionInfo": {
     "elapsed": 7774,
     "status": "ok",
     "timestamp": 1612444927732,
     "user": {
      "displayName": "INÉS HERNÁNDEZ SÁNCHEZ",
      "photoUrl": "",
      "userId": "05427300555485243097"
     },
     "user_tz": -60
    },
    "id": "7-mlmNdkm8FB"
   },
   "outputs": [],
   "source": [
    "\n",
    "def find_outlier(x):\n",
    "    q1 = np.percentile(x,25)\n",
    "    q3 = np.percentile(x,75)\n",
    "    iqr = q3 - q1\n",
    "    floor = q1 - 1.5*iqr\n",
    "    ceiling = q3 + 1.5*iqr\n",
    "    outlier_indices = list(x.index[(x < floor)|(x > ceiling)])\n",
    "    outlier_values = list(x[outlier_indices])\n",
    "    return outlier_indices,outlier_values"
   ]
  },
  {
   "cell_type": "code",
   "execution_count": 47,
   "metadata": {
    "executionInfo": {
     "elapsed": 7753,
     "status": "ok",
     "timestamp": 1612444927734,
     "user": {
      "displayName": "INÉS HERNÁNDEZ SÁNCHEZ",
      "photoUrl": "",
      "userId": "05427300555485243097"
     },
     "user_tz": -60
    },
    "id": "xakY920hploU"
   },
   "outputs": [],
   "source": [
    "\n",
    "Outlier = pd.DataFrame(columns=['ColumnName','OutlierFreq'])\n"
   ]
  },
  {
   "cell_type": "code",
   "execution_count": 48,
   "metadata": {
    "colab": {
     "base_uri": "https://localhost:8080/"
    },
    "executionInfo": {
     "elapsed": 7728,
     "status": "ok",
     "timestamp": 1612444927737,
     "user": {
      "displayName": "INÉS HERNÁNDEZ SÁNCHEZ",
      "photoUrl": "",
      "userId": "05427300555485243097"
     },
     "user_tz": -60
    },
    "id": "W8mJ9taqnMiF",
    "outputId": "4d1ce812-98d7-4a34-d472-92d4425f41ea"
   },
   "outputs": [
    {
     "name": "stdout",
     "output_type": "stream",
     "text": [
      "age \t\t\t181\n",
      "duration \t\t593\n",
      "campaign \t\t450\n",
      "pdays \t\t\t1050\n",
      "emp.var.rate \t\t0\n",
      "cons.price.idx \t\t1648\n",
      "cons.conf.idx \t\t180\n",
      "euribor3m \t\t0\n",
      "nr.employed \t\t0\n"
     ]
    }
   ],
   "source": [
    "tukey_ind, tukey_values = find_outlier(data['age']) \n",
    "print('age \\t\\t\\t'+ str(len(np.sort(tukey_values))))\n",
    "Outlier.loc[1] = ['age',len(np.sort(tukey_values))]\n",
    "tukey_ind, tukey_values = find_outlier(data['duration']) \n",
    "print('duration \\t\\t'+ str(len(np.sort(tukey_values))))\n",
    "Outlier.loc[2] = ['duration',len(np.sort(tukey_values))]\n",
    "tukey_ind, tukey_values = find_outlier(data['campaign']) \n",
    "print('campaign \\t\\t'+ str(len(np.sort(tukey_values))))\n",
    "Outlier.loc[3] = ['campaign',len(np.sort(tukey_values))]\n",
    "tukey_ind, tukey_values = find_outlier(data['pdays']) \n",
    "print('pdays \\t\\t\\t'+ str(len(np.sort(tukey_values))))\n",
    "Outlier.loc[4] = ['pdays',len(np.sort(tukey_values))]\n",
    "tukey_ind, tukey_values = find_outlier(data['empvarrate']) \n",
    "print('emp.var.rate \\t\\t'+ str(len(np.sort(tukey_values))))\n",
    "Outlier.loc[5] = ['emp.var.rate',len(np.sort(tukey_values))]\n",
    "tukey_ind, tukey_values = find_outlier(data['conspriceidx']) \n",
    "print('cons.price.idx \\t\\t'+ str(len(np.sort(tukey_values))))\n",
    "Outlier.loc[6] = ['cons.price.idx',len(np.sort(tukey_values))]\n",
    "tukey_ind, tukey_values = find_outlier(data['consconfidx']) \n",
    "print('cons.conf.idx \\t\\t'+ str(len(np.sort(tukey_values))))\n",
    "Outlier.loc[7] = ['cons.conf.idx',len(np.sort(tukey_values))]\n",
    "tukey_ind, tukey_values = find_outlier(data['euribor3m']) \n",
    "print('euribor3m \\t\\t'+ str(len(np.sort(tukey_values))))\n",
    "Outlier.loc[8] = ['euribor3m',len(np.sort(tukey_values))]\n",
    "tukey_ind, tukey_values = find_outlier(data['nremployed']) \n",
    "print('nr.employed \\t\\t'+ str(len(np.sort(tukey_values))))\n",
    "Outlier.loc[9] = ['nr.employed',len(np.sort(tukey_values))]"
   ]
  },
  {
   "cell_type": "code",
   "execution_count": 49,
   "metadata": {
    "colab": {
     "base_uri": "https://localhost:8080/",
     "height": 475
    },
    "executionInfo": {
     "elapsed": 7688,
     "status": "ok",
     "timestamp": 1612444927738,
     "user": {
      "displayName": "INÉS HERNÁNDEZ SÁNCHEZ",
      "photoUrl": "",
      "userId": "05427300555485243097"
     },
     "user_tz": -60
    },
    "id": "TTK5vIR_nmso",
    "outputId": "95f4c8be-9cd4-4c24-970f-f7b6d6c826be"
   },
   "outputs": [
    {
     "data": {
      "text/plain": [
       "Text(0.5, 1.0, 'Frecuencia de outliers en las variables')"
      ]
     },
     "execution_count": 49,
     "metadata": {
      "tags": []
     },
     "output_type": "execute_result"
    },
    {
     "data": {
      "image/png": "[encoded data removed]",
      "text/plain": [
       "<Figure size 864x504 with 1 Axes>"
      ]
     },
     "metadata": {
      "needs_background": "light",
      "tags": []
     },
     "output_type": "display_data"
    }
   ],
   "source": [
    "plt.rcParams['figure.figsize'] = (12, 7)\n",
    "sns.barplot( x ='ColumnName', y=\"OutlierFreq\", data=Outlier) \n",
    "plt.title(\"Frecuencia de outliers en las variables\")"
   ]
  },
  {
   "cell_type": "code",
   "execution_count": 50,
   "metadata": {
    "colab": {
     "base_uri": "https://localhost:8080/",
     "height": 492
    },
    "executionInfo": {
     "elapsed": 8052,
     "status": "ok",
     "timestamp": 1612444928145,
     "user": {
      "displayName": "INÉS HERNÁNDEZ SÁNCHEZ",
      "photoUrl": "",
      "userId": "05427300555485243097"
     },
     "user_tz": -60
    },
    "id": "PZhYTBiHnuod",
    "outputId": "bcaaa1a8-f728-4e54-f814-50a052a28177"
   },
   "outputs": [
    {
     "name": "stderr",
     "output_type": "stream",
     "text": [
      "/usr/local/lib/python3.6/dist-packages/seaborn/distributions.py:2557: FutureWarning: `distplot` is a deprecated function and will be removed in a future version. Please adapt your code to use either `displot` (a figure-level function with similar flexibility) or `histplot` (an axes-level function for histograms).\n",
      "  warnings.warn(msg, FutureWarning)\n"
     ]
    },
    {
     "data": {
      "image/png": "[encoded data removed]",
      "text/plain": [
       "<Figure size 864x504 with 1 Axes>"
      ]
     },
     "metadata": {
      "needs_background": "light",
      "tags": []
     },
     "output_type": "display_data"
    }
   ],
   "source": [
    "#Distribuimos la variable edad en un histograma solo de los clientes suscritos a un cliente\n",
    "sns.distplot(data.loc[data['target'] == 1]['age'])\n",
    "plt.title(\"Distribución de la edad\")\n",
    "plt.show()"
   ]
  },
  {
   "cell_type": "code",
   "execution_count": 51,
   "metadata": {
    "colab": {
     "base_uri": "https://localhost:8080/",
     "height": 431
    },
    "executionInfo": {
     "elapsed": 8012,
     "status": "ok",
     "timestamp": 1612444928147,
     "user": {
      "displayName": "INÉS HERNÁNDEZ SÁNCHEZ",
      "photoUrl": "",
      "userId": "05427300555485243097"
     },
     "user_tz": -60
    },
    "id": "BYJ_F_tbqH6G",
    "outputId": "68793520-a262-45f3-9a92-ea82543b25bc"
   },
   "outputs": [
    {
     "data": {
      "image/png": "[encoded data removed]",
      "text/plain": [
       "<Figure size 864x504 with 1 Axes>"
      ]
     },
     "metadata": {
      "needs_background": "light",
      "tags": []
     },
     "output_type": "display_data"
    }
   ],
   "source": [
    "\n",
    "sns.boxplot( y=\"conspriceidx\", data=data) \n",
    "plt.title('Consumer Confidence Index with Outlier')\n",
    "plt.show()"
   ]
  },
  {
   "cell_type": "markdown",
   "metadata": {
    "id": "kiND2H7mAm0G"
   },
   "source": [
    "Finalmente llegamos a la conclusión que para continuar con el análisis eliminaremos ciertas variables como, por ejemplo, duration ya que esta variable afecta en gran medida a la variable target. Si duration=0 entonces y =\"no\". No se conoce la duración antes de realizar la llamada. Se descartan además las variables poutcome, education,loan,default y housing por la cantidad de missings que presentan.Además de variables que no interesan como campaing,pdays."
   ]
  },
  {
   "cell_type": "code",
   "execution_count": 52,
   "metadata": {
    "executionInfo": {
     "elapsed": 7988,
     "status": "ok",
     "timestamp": 1612444928148,
     "user": {
      "displayName": "INÉS HERNÁNDEZ SÁNCHEZ",
      "photoUrl": "",
      "userId": "05427300555485243097"
     },
     "user_tz": -60
    },
    "id": "6o4YTblqAm0H"
   },
   "outputs": [],
   "source": [
    "data.drop([\"default\",\"duration\", \"loan\", \"poutcome\",\"campaign\", \"pdays\",\"contact\",\"education\",\"housing\"],axis=1,inplace=True)"
   ]
  },
  {
   "cell_type": "markdown",
   "metadata": {
    "id": "ZghKMWDYAm0J"
   },
   "source": [
    "Visualizamos el nuevo dataset"
   ]
  },
  {
   "cell_type": "code",
   "execution_count": 53,
   "metadata": {
    "colab": {
     "base_uri": "https://localhost:8080/",
     "height": 419
    },
    "executionInfo": {
     "elapsed": 7972,
     "status": "ok",
     "timestamp": 1612444928150,
     "user": {
      "displayName": "INÉS HERNÁNDEZ SÁNCHEZ",
      "photoUrl": "",
      "userId": "05427300555485243097"
     },
     "user_tz": -60
    },
    "id": "bdzk4TEYAm0J",
    "outputId": "040428be-2653-4470-dfeb-6913e7a476a6"
   },
   "outputs": [
    {
     "data": {
      "text/html": [
       "<div>\n",
       "<style scoped>\n",
       "    .dataframe tbody tr th:only-of-type {\n",
       "        vertical-align: middle;\n",
       "    }\n",
       "\n",
       "    .dataframe tbody tr th {\n",
       "        vertical-align: top;\n",
       "    }\n",
       "\n",
       "    .dataframe thead th {\n",
       "        text-align: right;\n",
       "    }\n",
       "</style>\n",
       "<table border=\"1\" class=\"dataframe\">\n",
       "  <thead>\n",
       "    <tr style=\"text-align: right;\">\n",
       "      <th></th>\n",
       "      <th>age</th>\n",
       "      <th>job</th>\n",
       "      <th>marital</th>\n",
       "      <th>month</th>\n",
       "      <th>dayofweek</th>\n",
       "      <th>previous</th>\n",
       "      <th>empvarrate</th>\n",
       "      <th>conspriceidx</th>\n",
       "      <th>consconfidx</th>\n",
       "      <th>euribor3m</th>\n",
       "      <th>nremployed</th>\n",
       "      <th>target</th>\n",
       "    </tr>\n",
       "  </thead>\n",
       "  <tbody>\n",
       "    <tr>\n",
       "      <th>0</th>\n",
       "      <td>56</td>\n",
       "      <td>housemaid</td>\n",
       "      <td>married</td>\n",
       "      <td>may</td>\n",
       "      <td>mon</td>\n",
       "      <td>0</td>\n",
       "      <td>1.1</td>\n",
       "      <td>93.994</td>\n",
       "      <td>-36.4</td>\n",
       "      <td>4.857</td>\n",
       "      <td>5191.0</td>\n",
       "      <td>0</td>\n",
       "    </tr>\n",
       "    <tr>\n",
       "      <th>1</th>\n",
       "      <td>57</td>\n",
       "      <td>services</td>\n",
       "      <td>married</td>\n",
       "      <td>may</td>\n",
       "      <td>mon</td>\n",
       "      <td>0</td>\n",
       "      <td>1.1</td>\n",
       "      <td>93.994</td>\n",
       "      <td>-36.4</td>\n",
       "      <td>4.857</td>\n",
       "      <td>5191.0</td>\n",
       "      <td>0</td>\n",
       "    </tr>\n",
       "    <tr>\n",
       "      <th>2</th>\n",
       "      <td>37</td>\n",
       "      <td>services</td>\n",
       "      <td>married</td>\n",
       "      <td>may</td>\n",
       "      <td>mon</td>\n",
       "      <td>0</td>\n",
       "      <td>1.1</td>\n",
       "      <td>93.994</td>\n",
       "      <td>-36.4</td>\n",
       "      <td>4.857</td>\n",
       "      <td>5191.0</td>\n",
       "      <td>0</td>\n",
       "    </tr>\n",
       "    <tr>\n",
       "      <th>3</th>\n",
       "      <td>40</td>\n",
       "      <td>admin.</td>\n",
       "      <td>married</td>\n",
       "      <td>may</td>\n",
       "      <td>mon</td>\n",
       "      <td>0</td>\n",
       "      <td>1.1</td>\n",
       "      <td>93.994</td>\n",
       "      <td>-36.4</td>\n",
       "      <td>4.857</td>\n",
       "      <td>5191.0</td>\n",
       "      <td>0</td>\n",
       "    </tr>\n",
       "    <tr>\n",
       "      <th>4</th>\n",
       "      <td>56</td>\n",
       "      <td>services</td>\n",
       "      <td>married</td>\n",
       "      <td>may</td>\n",
       "      <td>mon</td>\n",
       "      <td>0</td>\n",
       "      <td>1.1</td>\n",
       "      <td>93.994</td>\n",
       "      <td>-36.4</td>\n",
       "      <td>4.857</td>\n",
       "      <td>5191.0</td>\n",
       "      <td>0</td>\n",
       "    </tr>\n",
       "    <tr>\n",
       "      <th>...</th>\n",
       "      <td>...</td>\n",
       "      <td>...</td>\n",
       "      <td>...</td>\n",
       "      <td>...</td>\n",
       "      <td>...</td>\n",
       "      <td>...</td>\n",
       "      <td>...</td>\n",
       "      <td>...</td>\n",
       "      <td>...</td>\n",
       "      <td>...</td>\n",
       "      <td>...</td>\n",
       "      <td>...</td>\n",
       "    </tr>\n",
       "    <tr>\n",
       "      <th>10648</th>\n",
       "      <td>73</td>\n",
       "      <td>retired</td>\n",
       "      <td>married</td>\n",
       "      <td>nov</td>\n",
       "      <td>fri</td>\n",
       "      <td>0</td>\n",
       "      <td>-1.1</td>\n",
       "      <td>94.767</td>\n",
       "      <td>-50.8</td>\n",
       "      <td>1.028</td>\n",
       "      <td>4963.6</td>\n",
       "      <td>1</td>\n",
       "    </tr>\n",
       "    <tr>\n",
       "      <th>10649</th>\n",
       "      <td>46</td>\n",
       "      <td>blue-collar</td>\n",
       "      <td>married</td>\n",
       "      <td>nov</td>\n",
       "      <td>fri</td>\n",
       "      <td>0</td>\n",
       "      <td>-1.1</td>\n",
       "      <td>94.767</td>\n",
       "      <td>-50.8</td>\n",
       "      <td>1.028</td>\n",
       "      <td>4963.6</td>\n",
       "      <td>0</td>\n",
       "    </tr>\n",
       "    <tr>\n",
       "      <th>10650</th>\n",
       "      <td>56</td>\n",
       "      <td>retired</td>\n",
       "      <td>married</td>\n",
       "      <td>nov</td>\n",
       "      <td>fri</td>\n",
       "      <td>0</td>\n",
       "      <td>-1.1</td>\n",
       "      <td>94.767</td>\n",
       "      <td>-50.8</td>\n",
       "      <td>1.028</td>\n",
       "      <td>4963.6</td>\n",
       "      <td>0</td>\n",
       "    </tr>\n",
       "    <tr>\n",
       "      <th>10651</th>\n",
       "      <td>44</td>\n",
       "      <td>technician</td>\n",
       "      <td>married</td>\n",
       "      <td>nov</td>\n",
       "      <td>fri</td>\n",
       "      <td>0</td>\n",
       "      <td>-1.1</td>\n",
       "      <td>94.767</td>\n",
       "      <td>-50.8</td>\n",
       "      <td>1.028</td>\n",
       "      <td>4963.6</td>\n",
       "      <td>1</td>\n",
       "    </tr>\n",
       "    <tr>\n",
       "      <th>10652</th>\n",
       "      <td>74</td>\n",
       "      <td>retired</td>\n",
       "      <td>married</td>\n",
       "      <td>nov</td>\n",
       "      <td>fri</td>\n",
       "      <td>1</td>\n",
       "      <td>-1.1</td>\n",
       "      <td>94.767</td>\n",
       "      <td>-50.8</td>\n",
       "      <td>1.028</td>\n",
       "      <td>4963.6</td>\n",
       "      <td>0</td>\n",
       "    </tr>\n",
       "  </tbody>\n",
       "</table>\n",
       "<p>10653 rows × 12 columns</p>\n",
       "</div>"
      ],
      "text/plain": [
       "       age          job  marital  ... euribor3m nremployed  target\n",
       "0       56    housemaid  married  ...     4.857     5191.0       0\n",
       "1       57     services  married  ...     4.857     5191.0       0\n",
       "2       37     services  married  ...     4.857     5191.0       0\n",
       "3       40       admin.  married  ...     4.857     5191.0       0\n",
       "4       56     services  married  ...     4.857     5191.0       0\n",
       "...    ...          ...      ...  ...       ...        ...     ...\n",
       "10648   73      retired  married  ...     1.028     4963.6       1\n",
       "10649   46  blue-collar  married  ...     1.028     4963.6       0\n",
       "10650   56      retired  married  ...     1.028     4963.6       0\n",
       "10651   44   technician  married  ...     1.028     4963.6       1\n",
       "10652   74      retired  married  ...     1.028     4963.6       0\n",
       "\n",
       "[10653 rows x 12 columns]"
      ]
     },
     "execution_count": 53,
     "metadata": {
      "tags": []
     },
     "output_type": "execute_result"
    }
   ],
   "source": [
    "data"
   ]
  },
  {
   "cell_type": "code",
   "execution_count": 54,
   "metadata": {
    "colab": {
     "base_uri": "https://localhost:8080/"
    },
    "executionInfo": {
     "elapsed": 7951,
     "status": "ok",
     "timestamp": 1612444928151,
     "user": {
      "displayName": "INÉS HERNÁNDEZ SÁNCHEZ",
      "photoUrl": "",
      "userId": "05427300555485243097"
     },
     "user_tz": -60
    },
    "id": "uzPwKxaKAm0K",
    "outputId": "d94077d2-9fa6-4149-b43a-7e87688f6f39"
   },
   "outputs": [
    {
     "data": {
      "text/plain": [
       "(10653, 12)"
      ]
     },
     "execution_count": 54,
     "metadata": {
      "tags": []
     },
     "output_type": "execute_result"
    }
   ],
   "source": [
    "data.shape"
   ]
  },
  {
   "cell_type": "markdown",
   "metadata": {
    "id": "P9LcjCPJAm0L"
   },
   "source": [
    "El nuevo dataset contiene el mismo número de registros pero ahora tenemos 11 variables y la variable target con 8913 registros."
   ]
  },
  {
   "cell_type": "code",
   "execution_count": 55,
   "metadata": {
    "executionInfo": {
     "elapsed": 8540,
     "status": "ok",
     "timestamp": 1612444928759,
     "user": {
      "displayName": "INÉS HERNÁNDEZ SÁNCHEZ",
      "photoUrl": "",
      "userId": "05427300555485243097"
     },
     "user_tz": -60
    },
    "id": "9RgDDvxwAm0h"
   },
   "outputs": [],
   "source": [
    "data.to_csv(\"/content/bankmod.csv\",index=False)"
   ]
  }
 ],
 "metadata": {
  "colab": {
   "name": "AnalisisExploratorio.ipynb",
   "provenance": []
  },
  "kernelspec": {
   "display_name": "Python 3 (ipykernel)",
   "language": "python",
   "name": "python3"
  },
  "language_info": {
   "codemirror_mode": {
    "name": "ipython",
    "version": 3
   },
   "file_extension": ".py",
   "mimetype": "text/x-python",
   "name": "python",
   "nbconvert_exporter": "python",
   "pygments_lexer": "ipython3",
   "version": "3.8.5"
  }
 },
 "nbformat": 4,
 "nbformat_minor": 1
}
