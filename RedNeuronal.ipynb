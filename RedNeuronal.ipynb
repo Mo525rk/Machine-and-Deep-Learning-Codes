{
 "cells": [
  {
   "cell_type": "code",
   "execution_count": null,
   "metadata": {
    "id": "DsIQrpftCgtV"
   },
   "outputs": [],
   "source": [
    "import pandas as pd\n",
    "import os\n",
    "import seaborn as sns\n",
    "import matplotlib.pyplot as plt\n",
    "import numpy as np\n",
    "mainpath = \"/content/\"\n",
    "filename = \"bankmod.csv\"\n",
    "fullpath = os.path.join(mainpath, filename)"
   ]
  },
  {
   "cell_type": "code",
   "execution_count": null,
   "metadata": {
    "colab": {
     "base_uri": "https://localhost:8080/",
     "height": 402
    },
    "executionInfo": {
     "elapsed": 1265,
     "status": "ok",
     "timestamp": 1612697172504,
     "user": {
      "displayName": "Manuel Martín-Mora Medina",
      "photoUrl": "",
      "userId": "17698407561154841155"
     },
     "user_tz": -60
    },
    "id": "s9L9SjquCgta",
    "outputId": "5626ab0a-2c8b-4813-efb0-9f0ffab07e9c"
   },
   "outputs": [
    {
     "data": {
      "text/html": [
       "<div>\n",
       "<style scoped>\n",
       "    .dataframe tbody tr th:only-of-type {\n",
       "        vertical-align: middle;\n",
       "    }\n",
       "\n",
       "    .dataframe tbody tr th {\n",
       "        vertical-align: top;\n",
       "    }\n",
       "\n",
       "    .dataframe thead th {\n",
       "        text-align: right;\n",
       "    }\n",
       "</style>\n",
       "<table border=\"1\" class=\"dataframe\">\n",
       "  <thead>\n",
       "    <tr style=\"text-align: right;\">\n",
       "      <th></th>\n",
       "      <th>age</th>\n",
       "      <th>job</th>\n",
       "      <th>marital</th>\n",
       "      <th>month</th>\n",
       "      <th>dayofweek</th>\n",
       "      <th>previous</th>\n",
       "      <th>empvarrate</th>\n",
       "      <th>conspriceidx</th>\n",
       "      <th>consconfidx</th>\n",
       "      <th>euribor3m</th>\n",
       "      <th>nremployed</th>\n",
       "      <th>target</th>\n",
       "    </tr>\n",
       "  </thead>\n",
       "  <tbody>\n",
       "    <tr>\n",
       "      <th>0</th>\n",
       "      <td>56</td>\n",
       "      <td>housemaid</td>\n",
       "      <td>married</td>\n",
       "      <td>may</td>\n",
       "      <td>mon</td>\n",
       "      <td>0</td>\n",
       "      <td>1.1</td>\n",
       "      <td>93.994</td>\n",
       "      <td>-36.4</td>\n",
       "      <td>4.857</td>\n",
       "      <td>5191.0</td>\n",
       "      <td>0</td>\n",
       "    </tr>\n",
       "    <tr>\n",
       "      <th>1</th>\n",
       "      <td>57</td>\n",
       "      <td>services</td>\n",
       "      <td>married</td>\n",
       "      <td>may</td>\n",
       "      <td>mon</td>\n",
       "      <td>0</td>\n",
       "      <td>1.1</td>\n",
       "      <td>93.994</td>\n",
       "      <td>-36.4</td>\n",
       "      <td>4.857</td>\n",
       "      <td>5191.0</td>\n",
       "      <td>0</td>\n",
       "    </tr>\n",
       "    <tr>\n",
       "      <th>2</th>\n",
       "      <td>37</td>\n",
       "      <td>services</td>\n",
       "      <td>married</td>\n",
       "      <td>may</td>\n",
       "      <td>mon</td>\n",
       "      <td>0</td>\n",
       "      <td>1.1</td>\n",
       "      <td>93.994</td>\n",
       "      <td>-36.4</td>\n",
       "      <td>4.857</td>\n",
       "      <td>5191.0</td>\n",
       "      <td>0</td>\n",
       "    </tr>\n",
       "    <tr>\n",
       "      <th>3</th>\n",
       "      <td>40</td>\n",
       "      <td>admin.</td>\n",
       "      <td>married</td>\n",
       "      <td>may</td>\n",
       "      <td>mon</td>\n",
       "      <td>0</td>\n",
       "      <td>1.1</td>\n",
       "      <td>93.994</td>\n",
       "      <td>-36.4</td>\n",
       "      <td>4.857</td>\n",
       "      <td>5191.0</td>\n",
       "      <td>0</td>\n",
       "    </tr>\n",
       "    <tr>\n",
       "      <th>4</th>\n",
       "      <td>56</td>\n",
       "      <td>services</td>\n",
       "      <td>married</td>\n",
       "      <td>may</td>\n",
       "      <td>mon</td>\n",
       "      <td>0</td>\n",
       "      <td>1.1</td>\n",
       "      <td>93.994</td>\n",
       "      <td>-36.4</td>\n",
       "      <td>4.857</td>\n",
       "      <td>5191.0</td>\n",
       "      <td>0</td>\n",
       "    </tr>\n",
       "    <tr>\n",
       "      <th>...</th>\n",
       "      <td>...</td>\n",
       "      <td>...</td>\n",
       "      <td>...</td>\n",
       "      <td>...</td>\n",
       "      <td>...</td>\n",
       "      <td>...</td>\n",
       "      <td>...</td>\n",
       "      <td>...</td>\n",
       "      <td>...</td>\n",
       "      <td>...</td>\n",
       "      <td>...</td>\n",
       "      <td>...</td>\n",
       "    </tr>\n",
       "    <tr>\n",
       "      <th>10648</th>\n",
       "      <td>73</td>\n",
       "      <td>retired</td>\n",
       "      <td>married</td>\n",
       "      <td>nov</td>\n",
       "      <td>fri</td>\n",
       "      <td>0</td>\n",
       "      <td>-1.1</td>\n",
       "      <td>94.767</td>\n",
       "      <td>-50.8</td>\n",
       "      <td>1.028</td>\n",
       "      <td>4963.6</td>\n",
       "      <td>1</td>\n",
       "    </tr>\n",
       "    <tr>\n",
       "      <th>10649</th>\n",
       "      <td>46</td>\n",
       "      <td>blue-collar</td>\n",
       "      <td>married</td>\n",
       "      <td>nov</td>\n",
       "      <td>fri</td>\n",
       "      <td>0</td>\n",
       "      <td>-1.1</td>\n",
       "      <td>94.767</td>\n",
       "      <td>-50.8</td>\n",
       "      <td>1.028</td>\n",
       "      <td>4963.6</td>\n",
       "      <td>0</td>\n",
       "    </tr>\n",
       "    <tr>\n",
       "      <th>10650</th>\n",
       "      <td>56</td>\n",
       "      <td>retired</td>\n",
       "      <td>married</td>\n",
       "      <td>nov</td>\n",
       "      <td>fri</td>\n",
       "      <td>0</td>\n",
       "      <td>-1.1</td>\n",
       "      <td>94.767</td>\n",
       "      <td>-50.8</td>\n",
       "      <td>1.028</td>\n",
       "      <td>4963.6</td>\n",
       "      <td>0</td>\n",
       "    </tr>\n",
       "    <tr>\n",
       "      <th>10651</th>\n",
       "      <td>44</td>\n",
       "      <td>technician</td>\n",
       "      <td>married</td>\n",
       "      <td>nov</td>\n",
       "      <td>fri</td>\n",
       "      <td>0</td>\n",
       "      <td>-1.1</td>\n",
       "      <td>94.767</td>\n",
       "      <td>-50.8</td>\n",
       "      <td>1.028</td>\n",
       "      <td>4963.6</td>\n",
       "      <td>1</td>\n",
       "    </tr>\n",
       "    <tr>\n",
       "      <th>10652</th>\n",
       "      <td>74</td>\n",
       "      <td>retired</td>\n",
       "      <td>married</td>\n",
       "      <td>nov</td>\n",
       "      <td>fri</td>\n",
       "      <td>1</td>\n",
       "      <td>-1.1</td>\n",
       "      <td>94.767</td>\n",
       "      <td>-50.8</td>\n",
       "      <td>1.028</td>\n",
       "      <td>4963.6</td>\n",
       "      <td>0</td>\n",
       "    </tr>\n",
       "  </tbody>\n",
       "</table>\n",
       "<p>10653 rows × 12 columns</p>\n",
       "</div>"
      ],
      "text/plain": [
       "       age          job  marital  ... euribor3m nremployed  target\n",
       "0       56    housemaid  married  ...     4.857     5191.0       0\n",
       "1       57     services  married  ...     4.857     5191.0       0\n",
       "2       37     services  married  ...     4.857     5191.0       0\n",
       "3       40       admin.  married  ...     4.857     5191.0       0\n",
       "4       56     services  married  ...     4.857     5191.0       0\n",
       "...    ...          ...      ...  ...       ...        ...     ...\n",
       "10648   73      retired  married  ...     1.028     4963.6       1\n",
       "10649   46  blue-collar  married  ...     1.028     4963.6       0\n",
       "10650   56      retired  married  ...     1.028     4963.6       0\n",
       "10651   44   technician  married  ...     1.028     4963.6       1\n",
       "10652   74      retired  married  ...     1.028     4963.6       0\n",
       "\n",
       "[10653 rows x 12 columns]"
      ]
     },
     "execution_count": 2,
     "metadata": {
      "tags": []
     },
     "output_type": "execute_result"
    }
   ],
   "source": [
    "data = pd.read_csv(fullpath,sep=\",\")\n",
    "data"
   ]
  },
  {
   "cell_type": "markdown",
   "metadata": {
    "id": "yRTnWOa3DkVI"
   },
   "source": [
    "###Estandarización de las variables númericas"
   ]
  },
  {
   "cell_type": "code",
   "execution_count": null,
   "metadata": {
    "id": "fQ6hSDOVDeDQ"
   },
   "outputs": [],
   "source": [
    "from sklearn.preprocessing import StandardScaler\n",
    "data[['age', 'previous','empvarrate','conspriceidx',\"consconfidx\",\"euribor3m\",\"nremployed\"]]=StandardScaler().fit_transform(data[['age', 'previous','empvarrate','conspriceidx',\"consconfidx\",\"euribor3m\",\"nremployed\"]])"
   ]
  },
  {
   "cell_type": "markdown",
   "metadata": {
    "id": "imwlXyfeDz6V"
   },
   "source": [
    "### Conversión de las variables categóricas a númericas(categorización)"
   ]
  },
  {
   "cell_type": "code",
   "execution_count": null,
   "metadata": {
    "id": "C7GDYoSPD1JX"
   },
   "outputs": [],
   "source": [
    "data.job=data.job.astype(\"category\").cat.codes\n",
    "data.marital=data.marital.astype(\"category\").cat.codes\n",
    "data.month=data.month.astype(\"category\").cat.codes\n",
    "data.dayofweek=data.dayofweek.astype(\"category\").cat.codes"
   ]
  },
  {
   "cell_type": "code",
   "execution_count": null,
   "metadata": {
    "colab": {
     "base_uri": "https://localhost:8080/",
     "height": 195
    },
    "executionInfo": {
     "elapsed": 1743,
     "status": "ok",
     "timestamp": 1612697172990,
     "user": {
      "displayName": "Manuel Martín-Mora Medina",
      "photoUrl": "",
      "userId": "17698407561154841155"
     },
     "user_tz": -60
    },
    "id": "k4eN5ubYD5o4",
    "outputId": "bbab02f1-e02e-4677-cebd-c90930136381"
   },
   "outputs": [
    {
     "data": {
      "text/html": [
       "<div>\n",
       "<style scoped>\n",
       "    .dataframe tbody tr th:only-of-type {\n",
       "        vertical-align: middle;\n",
       "    }\n",
       "\n",
       "    .dataframe tbody tr th {\n",
       "        vertical-align: top;\n",
       "    }\n",
       "\n",
       "    .dataframe thead th {\n",
       "        text-align: right;\n",
       "    }\n",
       "</style>\n",
       "<table border=\"1\" class=\"dataframe\">\n",
       "  <thead>\n",
       "    <tr style=\"text-align: right;\">\n",
       "      <th></th>\n",
       "      <th>age</th>\n",
       "      <th>job</th>\n",
       "      <th>marital</th>\n",
       "      <th>month</th>\n",
       "      <th>dayofweek</th>\n",
       "      <th>previous</th>\n",
       "      <th>empvarrate</th>\n",
       "      <th>conspriceidx</th>\n",
       "      <th>consconfidx</th>\n",
       "      <th>euribor3m</th>\n",
       "      <th>nremployed</th>\n",
       "      <th>target</th>\n",
       "    </tr>\n",
       "  </thead>\n",
       "  <tbody>\n",
       "    <tr>\n",
       "      <th>0</th>\n",
       "      <td>1.323661</td>\n",
       "      <td>3</td>\n",
       "      <td>1</td>\n",
       "      <td>6</td>\n",
       "      <td>1</td>\n",
       "      <td>-0.48371</td>\n",
       "      <td>1.221893</td>\n",
       "      <td>1.415527</td>\n",
       "      <td>0.934807</td>\n",
       "      <td>1.107212</td>\n",
       "      <td>0.610008</td>\n",
       "      <td>0</td>\n",
       "    </tr>\n",
       "    <tr>\n",
       "      <th>1</th>\n",
       "      <td>1.411120</td>\n",
       "      <td>7</td>\n",
       "      <td>1</td>\n",
       "      <td>6</td>\n",
       "      <td>1</td>\n",
       "      <td>-0.48371</td>\n",
       "      <td>1.221893</td>\n",
       "      <td>1.415527</td>\n",
       "      <td>0.934807</td>\n",
       "      <td>1.107212</td>\n",
       "      <td>0.610008</td>\n",
       "      <td>0</td>\n",
       "    </tr>\n",
       "    <tr>\n",
       "      <th>2</th>\n",
       "      <td>-0.338054</td>\n",
       "      <td>7</td>\n",
       "      <td>1</td>\n",
       "      <td>6</td>\n",
       "      <td>1</td>\n",
       "      <td>-0.48371</td>\n",
       "      <td>1.221893</td>\n",
       "      <td>1.415527</td>\n",
       "      <td>0.934807</td>\n",
       "      <td>1.107212</td>\n",
       "      <td>0.610008</td>\n",
       "      <td>0</td>\n",
       "    </tr>\n",
       "    <tr>\n",
       "      <th>3</th>\n",
       "      <td>-0.075678</td>\n",
       "      <td>0</td>\n",
       "      <td>1</td>\n",
       "      <td>6</td>\n",
       "      <td>1</td>\n",
       "      <td>-0.48371</td>\n",
       "      <td>1.221893</td>\n",
       "      <td>1.415527</td>\n",
       "      <td>0.934807</td>\n",
       "      <td>1.107212</td>\n",
       "      <td>0.610008</td>\n",
       "      <td>0</td>\n",
       "    </tr>\n",
       "    <tr>\n",
       "      <th>4</th>\n",
       "      <td>1.323661</td>\n",
       "      <td>7</td>\n",
       "      <td>1</td>\n",
       "      <td>6</td>\n",
       "      <td>1</td>\n",
       "      <td>-0.48371</td>\n",
       "      <td>1.221893</td>\n",
       "      <td>1.415527</td>\n",
       "      <td>0.934807</td>\n",
       "      <td>1.107212</td>\n",
       "      <td>0.610008</td>\n",
       "      <td>0</td>\n",
       "    </tr>\n",
       "  </tbody>\n",
       "</table>\n",
       "</div>"
      ],
      "text/plain": [
       "        age  job  marital  month  ...  consconfidx  euribor3m  nremployed  target\n",
       "0  1.323661    3        1      6  ...     0.934807   1.107212    0.610008       0\n",
       "1  1.411120    7        1      6  ...     0.934807   1.107212    0.610008       0\n",
       "2 -0.338054    7        1      6  ...     0.934807   1.107212    0.610008       0\n",
       "3 -0.075678    0        1      6  ...     0.934807   1.107212    0.610008       0\n",
       "4  1.323661    7        1      6  ...     0.934807   1.107212    0.610008       0\n",
       "\n",
       "[5 rows x 12 columns]"
      ]
     },
     "execution_count": 5,
     "metadata": {
      "tags": []
     },
     "output_type": "execute_result"
    }
   ],
   "source": [
    "data.head()"
   ]
  },
  {
   "cell_type": "code",
   "execution_count": null,
   "metadata": {
    "id": "hhFtfKApEIpo"
   },
   "outputs": [],
   "source": [
    "bank_data_vars = data.columns.values.tolist()\n",
    "Y = ['target']\n",
    "predictors = [v for v in bank_data_vars if v not in Y]"
   ]
  },
  {
   "cell_type": "code",
   "execution_count": null,
   "metadata": {
    "id": "MGMSTNq6EMIQ"
   },
   "outputs": [],
   "source": [
    "X = data[predictors]\n",
    "Y = data[\"target\"]"
   ]
  },
  {
   "cell_type": "markdown",
   "metadata": {
    "id": "N1OFgn3MCgte"
   },
   "source": [
    "## 2. Comienzo la red neuronal"
   ]
  },
  {
   "cell_type": "code",
   "execution_count": null,
   "metadata": {
    "id": "yDGxBboWCgtf"
   },
   "outputs": [],
   "source": [
    "from sklearn.model_selection import train_test_split"
   ]
  },
  {
   "cell_type": "code",
   "execution_count": null,
   "metadata": {
    "id": "e_KZjlnvCgtf"
   },
   "outputs": [],
   "source": [
    "X_train, X_test, Y_train, Y_test = train_test_split(X, Y, test_size = 0.3, random_state = 0)"
   ]
  },
  {
   "cell_type": "code",
   "execution_count": null,
   "metadata": {
    "id": "clZOb4S2FuZK"
   },
   "outputs": [],
   "source": [
    "import keras\n",
    "from sklearn.preprocessing import LabelEncoder, OneHotEncoder\n",
    "from sklearn.preprocessing import StandardScaler\n",
    "from sklearn.metrics import confusion_matrix,accuracy_score\n",
    "from keras.models import Sequential\n",
    "from keras.layers import Dense"
   ]
  },
  {
   "cell_type": "code",
   "execution_count": null,
   "metadata": {
    "colab": {
     "base_uri": "https://localhost:8080/"
    },
    "executionInfo": {
     "elapsed": 28010,
     "status": "ok",
     "timestamp": 1612697199269,
     "user": {
      "displayName": "Manuel Martín-Mora Medina",
      "photoUrl": "",
      "userId": "17698407561154841155"
     },
     "user_tz": -60
    },
    "id": "u62Zbb76Cgtf",
    "outputId": "25838ecf-5ff3-4673-928a-a1b48167d98e"
   },
   "outputs": [
    {
     "name": "stdout",
     "output_type": "stream",
     "text": [
      "Epoch 1/30\n",
      "678/678 [==============================] - 1s 1ms/step - loss: 0.6464 - accuracy: 0.6119\n",
      "Epoch 2/30\n",
      "678/678 [==============================] - 1s 1ms/step - loss: 0.3770 - accuracy: 0.8462\n",
      "Epoch 3/30\n",
      "678/678 [==============================] - 1s 1ms/step - loss: 0.3382 - accuracy: 0.8673\n",
      "Epoch 4/30\n",
      "678/678 [==============================] - 1s 1ms/step - loss: 0.3176 - accuracy: 0.8749\n",
      "Epoch 5/30\n",
      "678/678 [==============================] - 1s 1ms/step - loss: 0.3147 - accuracy: 0.8757\n",
      "Epoch 6/30\n",
      "678/678 [==============================] - 1s 1ms/step - loss: 0.3182 - accuracy: 0.8713\n",
      "Epoch 7/30\n",
      "678/678 [==============================] - 1s 1ms/step - loss: 0.3264 - accuracy: 0.8667\n",
      "Epoch 8/30\n",
      "678/678 [==============================] - 1s 1ms/step - loss: 0.3133 - accuracy: 0.8769\n",
      "Epoch 9/30\n",
      "678/678 [==============================] - 1s 1ms/step - loss: 0.3165 - accuracy: 0.8725\n",
      "Epoch 10/30\n",
      "678/678 [==============================] - 1s 1ms/step - loss: 0.3038 - accuracy: 0.8717\n",
      "Epoch 11/30\n",
      "678/678 [==============================] - 1s 1ms/step - loss: 0.3018 - accuracy: 0.8801\n",
      "Epoch 12/30\n",
      "678/678 [==============================] - 1s 1ms/step - loss: 0.3097 - accuracy: 0.8727\n",
      "Epoch 13/30\n",
      "678/678 [==============================] - 1s 1ms/step - loss: 0.3060 - accuracy: 0.8746\n",
      "Epoch 14/30\n",
      "678/678 [==============================] - 1s 1ms/step - loss: 0.3158 - accuracy: 0.8699\n",
      "Epoch 15/30\n",
      "678/678 [==============================] - 1s 1ms/step - loss: 0.3062 - accuracy: 0.8768\n",
      "Epoch 16/30\n",
      "678/678 [==============================] - 1s 1ms/step - loss: 0.3109 - accuracy: 0.8752\n",
      "Epoch 17/30\n",
      "678/678 [==============================] - 1s 1ms/step - loss: 0.3149 - accuracy: 0.8709\n",
      "Epoch 18/30\n",
      "678/678 [==============================] - 1s 1ms/step - loss: 0.2959 - accuracy: 0.8794\n",
      "Epoch 19/30\n",
      "678/678 [==============================] - 1s 1ms/step - loss: 0.3039 - accuracy: 0.8744\n",
      "Epoch 20/30\n",
      "678/678 [==============================] - 1s 1ms/step - loss: 0.3140 - accuracy: 0.8688\n",
      "Epoch 21/30\n",
      "678/678 [==============================] - 1s 1ms/step - loss: 0.3004 - accuracy: 0.8738\n",
      "Epoch 22/30\n",
      "678/678 [==============================] - 1s 1ms/step - loss: 0.3088 - accuracy: 0.8740\n",
      "Epoch 23/30\n",
      "678/678 [==============================] - 1s 1ms/step - loss: 0.3041 - accuracy: 0.8752\n",
      "Epoch 24/30\n",
      "678/678 [==============================] - 1s 1ms/step - loss: 0.2954 - accuracy: 0.8847\n",
      "Epoch 25/30\n",
      "678/678 [==============================] - 1s 1ms/step - loss: 0.3119 - accuracy: 0.8682\n",
      "Epoch 26/30\n",
      "678/678 [==============================] - 1s 1ms/step - loss: 0.3061 - accuracy: 0.8737\n",
      "Epoch 27/30\n",
      "678/678 [==============================] - 1s 1ms/step - loss: 0.2926 - accuracy: 0.8792\n",
      "Epoch 28/30\n",
      "678/678 [==============================] - 1s 1ms/step - loss: 0.3008 - accuracy: 0.8741\n",
      "Epoch 29/30\n",
      "678/678 [==============================] - 1s 1ms/step - loss: 0.3051 - accuracy: 0.8730\n",
      "Epoch 30/30\n",
      "678/678 [==============================] - 1s 1ms/step - loss: 0.3060 - accuracy: 0.8728\n"
     ]
    },
    {
     "data": {
      "text/plain": [
       "<tensorflow.python.keras.callbacks.History at 0x7f3e284a11d0>"
      ]
     },
     "execution_count": 11,
     "metadata": {
      "tags": []
     },
     "output_type": "execute_result"
    }
   ],
   "source": [
    "#Creación de la red neuronal\n",
    "model = Sequential()\n",
    "# Primera capa \n",
    "model.add(Dense(11, input_dim=11, activation='relu'))\n",
    "# Capa oculta\n",
    "model.add(Dense(5, activation='relu'))\n",
    "# Capa de salida\n",
    "model.add(Dense(1, activation='sigmoid'))\n",
    "\n",
    "# Compilo el modelo\n",
    "model.compile(optimizer='adam',loss='binary_crossentropy',metrics=['accuracy'])\n",
    "model.fit(X_train, Y_train, batch_size = 11, epochs = 30)"
   ]
  },
  {
   "cell_type": "code",
   "execution_count": null,
   "metadata": {
    "id": "GD4ydJXTCgtg"
   },
   "outputs": [],
   "source": [
    "Y_pred = model.predict(X_test)\n",
    "Y_pred = (Y_pred > 0.50)"
   ]
  },
  {
   "cell_type": "markdown",
   "metadata": {
    "id": "_sjjSpNSPs01"
   },
   "source": [
    "## Matriz de Confusión y AUC"
   ]
  },
  {
   "cell_type": "code",
   "execution_count": null,
   "metadata": {
    "colab": {
     "base_uri": "https://localhost:8080/"
    },
    "executionInfo": {
     "elapsed": 28332,
     "status": "ok",
     "timestamp": 1612697199595,
     "user": {
      "displayName": "Manuel Martín-Mora Medina",
      "photoUrl": "",
      "userId": "17698407561154841155"
     },
     "user_tz": -60
    },
    "id": "wkFlaV1ECgtg",
    "outputId": "0fa9677d-aa1c-41d3-d2f3-8367981342eb"
   },
   "outputs": [
    {
     "name": "stdout",
     "output_type": "stream",
     "text": [
      "\n",
      "Matriz de confusión: \n",
      "[[1721   91]\n",
      " [ 324 1060]]\n",
      "\n",
      "Accuracy score: \n",
      "0.8701501877346683\n"
     ]
    }
   ],
   "source": [
    "from sklearn.metrics import confusion_matrix, accuracy_score\n",
    "import sklearn.metrics as metrics\n",
    "cm = confusion_matrix(Y_test, Y_pred)\n",
    "print(\"\\nMatriz de confusión: \\n{}\".format(cm))\n",
    " \n",
    "print(\"\\nAccuracy score: \\n{}\".format(metrics.accuracy_score(Y_test, Y_pred)))"
   ]
  },
  {
   "cell_type": "code",
   "execution_count": null,
   "metadata": {
    "id": "Mw37I-77Cgtg"
   },
   "outputs": [],
   "source": [
    "TN=cm[0][0]\n",
    "TP=cm[1][1]\n",
    "FN=cm[0][1]\n",
    "FP=cm[1][0]"
   ]
  },
  {
   "cell_type": "code",
   "execution_count": null,
   "metadata": {
    "colab": {
     "base_uri": "https://localhost:8080/"
    },
    "executionInfo": {
     "elapsed": 28329,
     "status": "ok",
     "timestamp": 1612697199597,
     "user": {
      "displayName": "Manuel Martín-Mora Medina",
      "photoUrl": "",
      "userId": "17698407561154841155"
     },
     "user_tz": -60
    },
    "id": "GH0i_1rNI6CZ",
    "outputId": "e61a4026-f6d7-4bd6-e67c-9e2ea87fae39"
   },
   "outputs": [
    {
     "data": {
      "text/plain": [
       "0.9209383145091226"
      ]
     },
     "execution_count": 15,
     "metadata": {
      "tags": []
     },
     "output_type": "execute_result"
    }
   ],
   "source": [
    "sens = TP/(TP+FN)\n",
    "sens"
   ]
  },
  {
   "cell_type": "code",
   "execution_count": null,
   "metadata": {
    "colab": {
     "base_uri": "https://localhost:8080/"
    },
    "executionInfo": {
     "elapsed": 28327,
     "status": "ok",
     "timestamp": 1612697199598,
     "user": {
      "displayName": "Manuel Martín-Mora Medina",
      "photoUrl": "",
      "userId": "17698407561154841155"
     },
     "user_tz": -60
    },
    "id": "hvJhDHGPI7n4",
    "outputId": "6295f996-d9b5-4be0-d768-701eafcefd53"
   },
   "outputs": [
    {
     "data": {
      "text/plain": [
       "0.8415647921760391"
      ]
     },
     "execution_count": 16,
     "metadata": {
      "tags": []
     },
     "output_type": "execute_result"
    }
   ],
   "source": [
    "espc_1 = TN/(TN+FP)\n",
    "espc_1"
   ]
  },
  {
   "cell_type": "code",
   "execution_count": null,
   "metadata": {
    "colab": {
     "base_uri": "https://localhost:8080/"
    },
    "executionInfo": {
     "elapsed": 28325,
     "status": "ok",
     "timestamp": 1612697199599,
     "user": {
      "displayName": "Manuel Martín-Mora Medina",
      "photoUrl": "",
      "userId": "17698407561154841155"
     },
     "user_tz": -60
    },
    "id": "rB-TaU9uI9NX",
    "outputId": "f9618e51-6447-478e-d400-7a70736e5f09"
   },
   "outputs": [
    {
     "name": "stdout",
     "output_type": "stream",
     "text": [
      "AUC on Test data is 0.8578376016026746\n"
     ]
    }
   ],
   "source": [
    "from sklearn.metrics import roc_auc_score\n",
    "print(\"AUC on Test data is \" +str(roc_auc_score(Y_test,Y_pred)))"
   ]
  },
  {
   "cell_type": "markdown",
   "metadata": {
    "id": "6YJd4NRKP6T-"
   },
   "source": [
    "## Resumen de los predictores de clasificación"
   ]
  },
  {
   "cell_type": "code",
   "execution_count": null,
   "metadata": {
    "colab": {
     "base_uri": "https://localhost:8080/"
    },
    "executionInfo": {
     "elapsed": 28322,
     "status": "ok",
     "timestamp": 1612697199599,
     "user": {
      "displayName": "Manuel Martín-Mora Medina",
      "photoUrl": "",
      "userId": "17698407561154841155"
     },
     "user_tz": -60
    },
    "id": "vPiSNS4NJBwY",
    "outputId": "f6f32217-e4ff-4449-deac-cdf12c2df059"
   },
   "outputs": [
    {
     "name": "stdout",
     "output_type": "stream",
     "text": [
      "=== Classification Report ===\n",
      "              precision    recall  f1-score   support\n",
      "\n",
      "           0       0.84      0.95      0.89      1812\n",
      "           1       0.92      0.77      0.84      1384\n",
      "\n",
      "    accuracy                           0.87      3196\n",
      "   macro avg       0.88      0.86      0.86      3196\n",
      "weighted avg       0.88      0.87      0.87      3196\n",
      "\n",
      "\n",
      "\n"
     ]
    }
   ],
   "source": [
    "from sklearn.metrics import classification_report\n",
    "print(\"=== Classification Report ===\")\n",
    "print(classification_report(Y_test, Y_pred))\n",
    "print('\\n')"
   ]
  }
 ],
 "metadata": {
  "colab": {
   "collapsed_sections": [],
   "name": "Copia de RedNeuronal (1).ipynb",
   "provenance": [
    {
     "file_id": "13gW42KtqncdxfCM0pwinKrc5XNg6B3xc",
     "timestamp": 1612696982916
    }
   ]
  },
  "kernelspec": {
   "display_name": "Python 3 (ipykernel)",
   "language": "python",
   "name": "python3"
  },
  "language_info": {
   "codemirror_mode": {
    "name": "ipython",
    "version": 3
   },
   "file_extension": ".py",
   "mimetype": "text/x-python",
   "name": "python",
   "nbconvert_exporter": "python",
   "pygments_lexer": "ipython3",
   "version": "3.8.5"
  }
 },
 "nbformat": 4,
 "nbformat_minor": 1
}
